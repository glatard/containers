{
 "cells": [
  {
   "cell_type": "markdown",
   "metadata": {
    "slideshow": {
     "slide_type": "slide"
    }
   },
   "source": [
    " ![Title image](./title.jpg \"Title\")"
   ]
  },
  {
   "cell_type": "markdown",
   "metadata": {
    "slideshow": {
     "slide_type": "slide"
    }
   },
   "source": [
    "# Week 1 strikes back\n",
    "\n",
    "In Week 1, you learned why and how to use Docker and Singularity containers during [Peer's wonderful lecture](https://github.com/neurodatascience/course-materials-2020/blob/master/lectures/12-may/02-intro-to-containerization/neurodatascience_virtualization_2020.pdf). Now you can't work without containers, they're really magic! \n",
    "\n",
    "![CommitStrip](https://www.commitstrip.com/wp-content/uploads/2017/02/Strip-Ou-sont-les-tests-unitaires-english650-final.jpg \"It's magic\")\n",
    "(only the last box of this is actually relevant, the first ones are a good intro to tomorrow's presentation)\n"
   ]
  },
  {
   "cell_type": "markdown",
   "metadata": {
    "slideshow": {
     "slide_type": "slide"
    }
   },
   "source": [
    "# Goals\n",
    "* Get to know more about the system (file system and processes)\n",
    "* Understand that containers aren't magic\n",
    "\n",
    "# Method\n",
    "\n",
    "* We will build \"mocker\", a tiny container engine\n",
    "* This guy will help us a lot\n",
    "\n",
    "<a href=\"https://www.kernel.org\"><img src=\"https://upload.wikimedia.org/wikipedia/commons/thumb/3/35/Tux.svg/440px-Tux.svg.png\" alt=\"Tux\" style=\"width: 100px;\"/></a>\n",
    "\n",
    "People usually call it \"the system\" or \"the kernel\", you can get its real name by typing `uname -a` in a terminal:"
   ]
  },
  {
   "cell_type": "code",
   "execution_count": 14,
   "metadata": {
    "slideshow": {
     "slide_type": "fragment"
    }
   },
   "outputs": [
    {
     "name": "stdout",
     "output_type": "stream",
     "text": [
      "Linux sapajou 5.5.10-100.fc30.x86_64 #1 SMP Wed Mar 18 14:34:46 UTC 2020 x86_64 x86_64 x86_64 GNU/Linux\r\n"
     ]
    }
   ],
   "source": [
    "!uname -a"
   ]
  },
  {
   "cell_type": "markdown",
   "metadata": {
    "slideshow": {
     "slide_type": "fragment"
    }
   },
   "source": [
    "(its conversation is limited, it only knows \"system calls\" such as `open`)\n",
    "\n",
    "\n",
    "# Note\n",
    "This notebook mostly uses `bash` commands, some of them requiring `sudo`, some of them being interactive. In this presentation we'll mostly run them in a terminal. _Remove the leading ! before copy-pasting the commands._"
   ]
  },
  {
   "cell_type": "markdown",
   "metadata": {
    "slideshow": {
     "slide_type": "slide"
    }
   },
   "source": [
    "# Resources\n",
    "\n",
    "![How containers work](https://jvns.ca/images/containers-cover.jpg \"https://wizardzines.com/zines/containers\")\n",
    "(available at https://wizardzines.com/zines/containers for $12)\n",
    "* [\"What even is a container?\"](https://jvns.ca/blog/2016/10/10/what-even-is-a-container),  Julia Evans\n",
    "* `man unshare`, `man cgroups`"
   ]
  },
  {
   "cell_type": "markdown",
   "metadata": {
    "slideshow": {
     "slide_type": "slide"
    }
   },
   "source": [
    "# __mocker v0.1__: replacing root directories with chroot\n",
    "\n",
    "\n",
    "## File system mounts\n",
    "\n",
    "A file system provides a usable interface to storage devices, organized in files and directories. In Linux, file systems need to be appended, a.k.a _mounted_, under the `/` \"root\" directory structure to be accessible. The location at which a file system is mounted is called a _mount point_. Mount points can be listed using command `df`:"
   ]
  },
  {
   "cell_type": "code",
   "execution_count": 10,
   "metadata": {
    "slideshow": {
     "slide_type": "fragment"
    }
   },
   "outputs": [
    {
     "name": "stdout",
     "output_type": "stream",
     "text": [
      "Filesystem              Type      Size  Used Avail Use% Mounted on\r\n",
      "devtmpfs                devtmpfs  7.7G     0  7.7G   0% /dev\r\n",
      "tmpfs                   tmpfs     7.7G  892M  6.9G  12% /dev/shm\r\n",
      "tmpfs                   tmpfs     7.7G  2.0M  7.7G   1% /run\r\n",
      "tmpfs                   tmpfs     7.7G     0  7.7G   0% /sys/fs/cgroup\r\n",
      "/dev/mapper/fedora-root ext4       49G   31G   16G  67% /\r\n",
      "tmpfs                   tmpfs     7.7G   12M  7.7G   1% /tmp\r\n",
      "/dev/loop0              squashfs   74M   74M     0 100% /var/lib/snapd/snap/wine-platform-3-stable/6\r\n",
      "/dev/loop2              squashfs   55M   55M     0 100% /var/lib/snapd/snap/core18/1754\r\n",
      "/dev/mapper/fedora-home ext4      411G  377G   13G  97% /home\r\n",
      "/dev/nvme0n1p2          ext4      976M  209M  700M  23% /boot\r\n",
      "/dev/loop3              squashfs   95M   95M     0 100% /var/lib/snapd/snap/github-desktop/63\r\n",
      "/dev/loop1              squashfs   28M   28M     0 100% /var/lib/snapd/snap/snapd/7264\r\n",
      "/dev/nvme0n1p1          vfat      200M   19M  182M  10% /boot/efi\r\n",
      "/dev/loop4              squashfs   55M   55M     0 100% /var/lib/snapd/snap/core18/1705\r\n",
      "/dev/loop5              squashfs  227M  227M     0 100% /var/lib/snapd/snap/wine-platform-runtime/136\r\n",
      "/dev/loop7              squashfs   28M   28M     0 100% /var/lib/snapd/snap/snapd/6953\r\n",
      "/dev/loop6              squashfs  227M  227M     0 100% /var/lib/snapd/snap/wine-platform-runtime/123\r\n",
      "/dev/loop8              squashfs   83M   83M     0 100% /var/lib/snapd/snap/zotero-snap/13\r\n",
      "/dev/loop9              squashfs   55M   55M     0 100% /var/lib/snapd/snap/gtk-common-themes/1502\r\n",
      "/dev/loop10             squashfs  128K  128K     0 100% /var/lib/snapd/snap/acrordrdc/8\r\n",
      "/dev/loop11             squashfs   63M   63M     0 100% /var/lib/snapd/snap/gtk-common-themes/1506\r\n",
      "/dev/loop12             squashfs  161M  161M     0 100% /var/lib/snapd/snap/gnome-3-28-1804/116\r\n",
      "/dev/loop13             squashfs   83M   83M     0 100% /var/lib/snapd/snap/zotero-snap/14\r\n",
      "tmpfs                   tmpfs     1.6G   51M  1.5G   4% /run/user/1000\r\n"
     ]
    }
   ],
   "source": [
    "!df -hT"
   ]
  },
  {
   "cell_type": "markdown",
   "metadata": {
    "slideshow": {
     "slide_type": "slide"
    }
   },
   "source": [
    "## File system types\n",
    "\n",
    "There are different types of file systems, such as:\n",
    "* `tmpfs`: in-memory file system, fast but usually small, doesn't survive reboot.\n",
    "* `ext4`: current default for Linux hard disks\n",
    "* `vfat`: legacy\n",
    "* `squashfs`: a compressed file-system, used in particular by Singularity\n",
    "* `nfs`: network file system, to mount files from  remote servers\n",
    "* `lustre`: another network file system, used in HPC centers"
   ]
  },
  {
   "cell_type": "markdown",
   "metadata": {
    "slideshow": {
     "slide_type": "fragment"
    }
   },
   "source": [
    "OK, this is not _really_ relevant to containers but I thought you might be interested :)"
   ]
  },
  {
   "cell_type": "markdown",
   "metadata": {
    "slideshow": {
     "slide_type": "fragment"
    }
   },
   "source": [
    "Some directories in the file system are particularly important for applications:\n",
    "* `/bin`: contains many useful programs such as `ls`, `cd`, etc\n",
    "* `/etc`: contains configuration files\n",
    "* `/lib`: contains software libraries\n",
    "* `/proc`: contains information about processes, mounts, etc"
   ]
  },
  {
   "cell_type": "markdown",
   "metadata": {
    "slideshow": {
     "slide_type": "slide"
    }
   },
   "source": [
    "## chroot: changing the root directory\n",
    "\n",
    "chroot is a system call to change the root directory from `/` to a custom directory. It gives the illusion that a complete new file hierarchy was deployed, in isolation from the initial environment. We will use `chroot` to provide the illusion that our computer runs under a different root directory. Programs executed in this environment will come from the new root (`/bin`), will use different libraries (`/lib`), and will use different configurations (`/etc`).\n",
    "\n",
    "First, let's download a new file system hierarchy and pretend that it's our container image:"
   ]
  },
  {
   "cell_type": "code",
   "execution_count": 13,
   "metadata": {
    "slideshow": {
     "slide_type": "fragment"
    }
   },
   "outputs": [
    {
     "name": "stdout",
     "output_type": "stream",
     "text": [
      "--2020-05-25 20:39:10--  http://bit.ly/fish-container\n",
      "Resolving bit.ly (bit.ly)... 67.199.248.11, 67.199.248.10\n",
      "Connecting to bit.ly (bit.ly)|67.199.248.11|:80... connected.\n",
      "HTTP request sent, awaiting response... 301 Moved Permanently\n",
      "Location: https://gist.github.com/jvns/1e8b2dcc2c9afac04acc4701112e3512/raw/5ef7f88cd089a70605b301cdd43f388d728f6817/fish.tar [following]\n",
      "--2020-05-25 20:39:10--  https://gist.github.com/jvns/1e8b2dcc2c9afac04acc4701112e3512/raw/5ef7f88cd089a70605b301cdd43f388d728f6817/fish.tar\n",
      "Resolving gist.github.com (gist.github.com)... 140.82.114.4\n",
      "Connecting to gist.github.com (gist.github.com)|140.82.114.4|:443... connected.\n",
      "HTTP request sent, awaiting response... 301 Moved Permanently\n",
      "Location: https://gist.githubusercontent.com/jvns/1e8b2dcc2c9afac04acc4701112e3512/raw/5ef7f88cd089a70605b301cdd43f388d728f6817/fish.tar [following]\n",
      "--2020-05-25 20:39:11--  https://gist.githubusercontent.com/jvns/1e8b2dcc2c9afac04acc4701112e3512/raw/5ef7f88cd089a70605b301cdd43f388d728f6817/fish.tar\n",
      "Resolving gist.githubusercontent.com (gist.githubusercontent.com)... 199.232.36.133\n",
      "Connecting to gist.githubusercontent.com (gist.githubusercontent.com)|199.232.36.133|:443... connected.\n",
      "HTTP request sent, awaiting response... 200 OK\n",
      "Length: 16999936 (16M) [application/octet-stream]\n",
      "Saving to: ‘fish.tar’\n",
      "\n",
      "fish.tar            100%[===================>]  16.21M  2.98MB/s    in 5.5s    \n",
      "\n",
      "2020-05-25 20:39:16 (2.96 MB/s) - ‘fish.tar’ saved [16999936/16999936]\n",
      "\n",
      "tar: proc: Cannot utime: Operation not permitted\n",
      "tar: proc: Cannot change mode to rwxr-xr-x: Operation not permitted\n",
      "tar: Exiting with failure status due to previous errors\n"
     ]
    }
   ],
   "source": [
    "!wget bit.ly/fish-container -O fish.tar # download a tar archive file containing a full directory hierarchy\n",
    "!mkdir -p container-root && (cd container-root && tar xf ../fish.tar) # unextract archive in directory container-root\n"
   ]
  },
  {
   "cell_type": "markdown",
   "metadata": {
    "slideshow": {
     "slide_type": "slide"
    }
   },
   "source": [
    "We can now use chroot to change our root file system to the root of our container image: "
   ]
  },
  {
   "cell_type": "code",
   "execution_count": 11,
   "metadata": {
    "slideshow": {
     "slide_type": "fragment"
    }
   },
   "outputs": [
    {
     "name": "stdout",
     "output_type": "stream",
     "text": [
      "[sudo] password for glatard: \n",
      "[sudo] password for glatard: "
     ]
    }
   ],
   "source": [
    "!sudo chroot $PWD/container-root /bin/sh -c \"/bin/mount -t proc proc /proc && /bin/sh\"\n"
   ]
  },
  {
   "cell_type": "markdown",
   "metadata": {
    "slideshow": {
     "slide_type": "fragment"
    }
   },
   "source": [
    "It looks like we're running on a different computer! Changing the root directory is a key concept of containers. "
   ]
  },
  {
   "cell_type": "markdown",
   "metadata": {
    "slideshow": {
     "slide_type": "slide"
    }
   },
   "source": [
    "# __mocker v0.2__: isolating processes\n",
    "\n",
    "There are in fact many indices showing that the \"chrooted\" environment is still running on the \"host\" computer. To start with, we can still see and interact with other programs, or _processes_ on the host.\n",
    "\n",
    "## Processes\n",
    "A process is a running program. It has a number (ID) and is often associated with a command. Current processes can be listed with command `ps`. `top` and `htop` are other useful commands to list proceses."
   ]
  },
  {
   "cell_type": "code",
   "execution_count": 2,
   "metadata": {
    "slideshow": {
     "slide_type": "fragment"
    }
   },
   "outputs": [
    {
     "name": "stdout",
     "output_type": "stream",
     "text": [
      "USER       PID %CPU %MEM    VSZ   RSS TTY      STAT START   TIME COMMAND\r\n",
      "root         1  0.0  0.0 169356  7784 ?        Ss   May24   0:19 /usr/lib/system\r\n",
      "root         2  0.0  0.0      0     0 ?        S    May24   0:00 [kthreadd]\r\n",
      "root         3  0.0  0.0      0     0 ?        I<   May24   0:00 [rcu_gp]\r\n",
      "root         4  0.0  0.0      0     0 ?        I<   May24   0:00 [rcu_par_gp]\r\n",
      "root         6  0.0  0.0      0     0 ?        I<   May24   0:00 [kworker/0:0H-e\r\n",
      "root         9  0.0  0.0      0     0 ?        I<   May24   0:00 [mm_percpu_wq]\r\n",
      "root        10  0.0  0.0      0     0 ?        S    May24   0:00 [ksoftirqd/0]\r\n",
      "root        11  0.1  0.0      0     0 ?        I    May24   1:24 [rcu_sched]\r\n",
      "root        12  0.0  0.0      0     0 ?        S    May24   0:00 [migration/0]\r\n",
      "root        13  0.0  0.0      0     0 ?        S    May24   0:00 [cpuhp/0]\r\n",
      "root        14  0.0  0.0      0     0 ?        S    May24   0:00 [cpuhp/1]\r\n",
      "root        15  0.0  0.0      0     0 ?        S    May24   0:00 [migration/1]\r\n",
      "root        16  0.0  0.0      0     0 ?        S    May24   0:00 [ksoftirqd/1]\r\n",
      "root        18  0.0  0.0      0     0 ?        I<   May24   0:00 [kworker/1:0H-e\r\n",
      "root        19  0.0  0.0      0     0 ?        S    May24   0:00 [cpuhp/2]\r\n",
      "root        20  0.0  0.0      0     0 ?        S    May24   0:00 [migration/2]\r\n",
      "root        21  0.0  0.0      0     0 ?        S    May24   0:03 [ksoftirqd/2]\r\n",
      "root        23  0.0  0.0      0     0 ?        I<   May24   0:00 [kworker/2:0H-k\r\n",
      "root        24  0.0  0.0      0     0 ?        S    May24   0:00 [cpuhp/3]\r\n",
      "root        25  0.0  0.0      0     0 ?        S    May24   0:00 [migration/3]\r\n",
      "root        26  0.0  0.0      0     0 ?        S    May24   0:02 [ksoftirqd/3]\r\n",
      "root        28  0.0  0.0      0     0 ?        I<   May24   0:00 [kworker/3:0H-e\r\n",
      "root        29  0.0  0.0      0     0 ?        S    May24   0:00 [kdevtmpfs]\r\n",
      "root        30  0.0  0.0      0     0 ?        I<   May24   0:00 [netns]\r\n",
      "root        31  0.0  0.0      0     0 ?        S    May24   0:00 [rcu_tasks_kthr\r\n",
      "root        32  0.0  0.0      0     0 ?        S    May24   0:00 [kauditd]\r\n",
      "root        35  0.0  0.0      0     0 ?        S    May24   0:00 [oom_reaper]\r\n",
      "root        36  0.0  0.0      0     0 ?        I<   May24   0:00 [writeback]\r\n",
      "root        37  0.0  0.0      0     0 ?        S    May24   0:01 [kcompactd0]\r\n",
      "root        38  0.0  0.0      0     0 ?        SN   May24   0:00 [ksmd]\r\n",
      "root        39  0.0  0.0      0     0 ?        SN   May24   0:00 [khugepaged]\r\n",
      "root        66  0.0  0.0      0     0 ?        I<   May24   0:00 [cryptd]\r\n",
      "root       147  0.0  0.0      0     0 ?        I<   May24   0:00 [kintegrityd]\r\n",
      "root       148  0.0  0.0      0     0 ?        I<   May24   0:00 [kblockd]\r\n",
      "root       149  0.0  0.0      0     0 ?        I<   May24   0:00 [blkcg_punt_bio\r\n",
      "root       150  0.0  0.0      0     0 ?        I<   May24   0:00 [tpm_dev_wq]\r\n",
      "root       151  0.0  0.0      0     0 ?        I<   May24   0:00 [ata_sff]\r\n",
      "root       152  0.0  0.0      0     0 ?        I<   May24   0:00 [md]\r\n",
      "root       153  0.0  0.0      0     0 ?        I<   May24   0:00 [edac-poller]\r\n",
      "root       154  0.0  0.0      0     0 ?        I<   May24   0:00 [devfreq_wq]\r\n",
      "root       156  0.0  0.0      0     0 ?        S    May24   0:00 [watchdogd]\r\n",
      "root       158  0.0  0.0      0     0 ?        S    May24   1:07 [kswapd0]\r\n",
      "root       161  0.0  0.0      0     0 ?        I<   May24   0:00 [kthrotld]\r\n",
      "root       162  0.0  0.0      0     0 ?        I<   May24   0:00 [acpi_thermal_p\r\n",
      "root       163  0.0  0.0      0     0 ?        S    May24   0:00 [scsi_eh_0]\r\n",
      "root       164  0.0  0.0      0     0 ?        I<   May24   0:00 [scsi_tmf_0]\r\n",
      "root       165  0.0  0.0      0     0 ?        S    May24   0:00 [scsi_eh_1]\r\n",
      "root       166  0.0  0.0      0     0 ?        I<   May24   0:00 [scsi_tmf_1]\r\n",
      "root       167  0.0  0.0      0     0 ?        S    May24   0:00 [scsi_eh_2]\r\n",
      "root       168  0.0  0.0      0     0 ?        I<   May24   0:00 [scsi_tmf_2]\r\n",
      "root       169  0.0  0.0      0     0 ?        S    May24   0:00 [scsi_eh_3]\r\n",
      "root       170  0.0  0.0      0     0 ?        I<   May24   0:00 [scsi_tmf_3]\r\n",
      "root       171  0.0  0.0      0     0 ?        S    May24   0:00 [scsi_eh_4]\r\n",
      "root       172  0.0  0.0      0     0 ?        I<   May24   0:00 [scsi_tmf_4]\r\n",
      "root       173  0.0  0.0      0     0 ?        S    May24   0:00 [scsi_eh_5]\r\n",
      "root       174  0.0  0.0      0     0 ?        I<   May24   0:00 [scsi_tmf_5]\r\n",
      "root       175  0.0  0.0      0     0 ?        S    May24   0:00 [scsi_eh_6]\r\n",
      "root       176  0.0  0.0      0     0 ?        I<   May24   0:00 [scsi_tmf_6]\r\n",
      "root       177  0.0  0.0      0     0 ?        S    May24   0:00 [scsi_eh_7]\r\n",
      "root       178  0.0  0.0      0     0 ?        I<   May24   0:00 [scsi_tmf_7]\r\n",
      "root       181  0.0  0.0      0     0 ?        I<   May24   0:00 [dm_bufio_cache\r\n",
      "root       183  0.0  0.0      0     0 ?        I<   May24   0:00 [ipv6_addrconf]\r\n",
      "root       189  0.0  0.0      0     0 ?        I<   May24   0:00 [kstrp]\r\n",
      "root       475  0.0  0.0      0     0 ?        S    May24   0:09 [irq/51-DLL0704\r\n",
      "root       481  0.0  0.0      0     0 ?        I<   May24   0:00 [nvme-wq]\r\n",
      "root       482  0.0  0.0      0     0 ?        I<   May24   0:00 [nvme-reset-wq]\r\n",
      "root       483  0.0  0.0      0     0 ?        I<   May24   0:00 [nvme-delete-wq\r\n",
      "root       492  0.0  0.0      0     0 ?        I<   May24   0:03 [kworker/3:1H-k\r\n",
      "root       499  0.0  0.0      0     0 ?        I<   May24   0:03 [kworker/0:1H-e\r\n",
      "root       545  0.0  0.0      0     0 ?        I<   May24   0:00 [kdmflush]\r\n",
      "root       550  0.0  0.0      0     0 ?        I<   May24   0:03 [kworker/1:1H-e\r\n",
      "root       553  0.0  0.0      0     0 ?        I<   May24   0:00 [kdmflush]\r\n",
      "root       565  0.0  0.0      0     0 ?        I<   May24   0:03 [kworker/2:1H-e\r\n",
      "root       570  0.0  0.0      0     0 ?        S    May24   0:01 [jbd2/dm-0-8]\r\n",
      "root       571  0.0  0.0      0     0 ?        I<   May24   0:00 [ext4-rsv-conve\r\n",
      "root       661  0.0  0.1 120540 17952 ?        Ss   May24   0:06 /usr/lib/system\r\n",
      "root       690  0.0  0.0  31880  5648 ?        Ss   May24   0:00 /usr/lib/system\r\n",
      "root       755  0.0  0.0      0     0 ?        S    May24   0:00 [irq/135-mei_me\r\n",
      "root       777  0.0  0.0      0     0 ?        I<   May24   0:00 [kdmflush]\r\n",
      "root       781  0.0  0.0      0     0 ?        I<   May24   0:00 [cfg80211]\r\n",
      "root       807  0.3  0.0      0     0 ?        S    May24   4:11 [irq/136-iwlwif\r\n",
      "root       868  0.0  0.0      0     0 ?        S<   May24   0:00 [loop0]\r\n",
      "root       873  0.0  0.0      0     0 ?        S<   May24   0:00 [loop1]\r\n",
      "root       886  0.0  0.0      0     0 ?        S<   May24   0:00 [loop2]\r\n",
      "root       894  0.0  0.0      0     0 ?        S    May24   0:04 [jbd2/dm-2-8]\r\n",
      "root       895  0.0  0.0      0     0 ?        S<   May24   0:00 [loop3]\r\n",
      "root       897  0.0  0.0      0     0 ?        I<   May24   0:00 [ext4-rsv-conve\r\n",
      "root       900  0.0  0.0      0     0 ?        S    May24   0:00 [jbd2/nvme0n1p2\r\n",
      "root       901  0.0  0.0      0     0 ?        I<   May24   0:00 [ext4-rsv-conve\r\n",
      "root       905  0.0  0.0      0     0 ?        S<   May24   0:00 [loop4]\r\n",
      "root       910  0.0  0.0      0     0 ?        S<   May24   0:00 [loop5]\r\n",
      "root       912  0.0  0.0      0     0 ?        S<   May24   0:00 [loop6]\r\n",
      "root       914  0.0  0.0      0     0 ?        S<   May24   0:00 [loop7]\r\n",
      "root       916  0.0  0.0      0     0 ?        S<   May24   0:00 [loop8]\r\n",
      "root       924  0.0  0.0      0     0 ?        S<   May24   0:00 [loop9]\r\n",
      "root       925  0.0  0.0      0     0 ?        S<   May24   0:00 [loop10]\r\n",
      "root       928  0.0  0.0      0     0 ?        S<   May24   0:00 [loop11]\r\n",
      "root       929  0.0  0.0      0     0 ?        S<   May24   0:00 [loop12]\r\n",
      "root       930  0.0  0.0      0     0 ?        S<   May24   0:00 [loop13]\r\n",
      "root       946  0.0  0.0  16764  1396 ?        S<sl May24   0:00 /sbin/auditd\r\n",
      "root       965  0.0  0.0      0     0 ?        I<   May24   0:00 [rpciod]\r\n",
      "root       966  0.0  0.0      0     0 ?        I<   May24   0:00 [xprtiod]\r\n",
      "root       968  0.0  0.0 312072  4068 ?        Ssl  May24   0:33 /sbin/rngd -f\r\n",
      "root       970  0.0  0.0   2544  1764 ?        Ss   May24   0:00 /usr/sbin/mcelo\r\n",
      "root       973  0.0  0.0 393468  8704 ?        Ssl  May24   0:00 /usr/libexec/ud\r\n",
      "root       974  0.0  0.0  17956  2856 ?        Ss   May24   0:00 /usr/lib/system\r\n",
      "root       975  0.0  0.0  18424  4124 ?        Ss   May24   0:02 /usr/lib/system\r\n",
      "root       976  0.0  0.0   8340  3368 ?        Ss   May24   0:00 /usr/libexec/bl\r\n",
      "avahi      977  0.0  0.0   6512  3424 ?        Ss   May24   0:01 avahi-daemon: r\r\n",
      "rtkit      979  0.0  0.0 152932  2660 ?        SNsl May24   0:01 /usr/libexec/rt\r\n",
      "root       980  0.0  0.0 313328  5964 ?        Ssl  May24   0:00 /usr/sbin/Modem\r\n",
      "root      1006  0.0  0.0 263584  2392 ?        Ssl  May24   0:00 /usr/sbin/gsspr\r\n",
      "root      1021  0.0  0.1 333344 31008 ?        Ssl  May24   0:01 /usr/bin/python\r\n",
      "root      1024  0.0  0.0 445808  6324 ?        Ssl  May24   0:00 /usr/libexec/ac\r\n",
      "dbus      1052  0.0  0.0 268824  3168 ?        Ss   May24   0:00 /usr/bin/dbus-b\r\n",
      "root      1057  0.0  0.0   4936   860 ?        SNs  May24   0:00 /usr/sbin/alsac\r\n",
      "root      1061  0.0  0.0 465408  8048 ?        Ssl  May24   0:00 /usr/sbin/abrtd\r\n",
      "chrony    1066  0.0  0.0  78796  2112 ?        S    May24   0:00 /usr/sbin/chron\r\n",
      "dbus      1069  0.0  0.0   8668  5992 ?        S    May24   0:09 dbus-broker --l\r\n",
      "avahi     1116  0.0  0.0   6384   336 ?        S    May24   0:00 avahi-daemon: c\r\n",
      "root      1119  0.0  0.0 1108308 8168 ?        Ss   May24   0:00 /usr/bin/abrt-d\r\n",
      "root      1126  0.0  0.0 1111500 8932 ?        Ss   May24   0:00 /usr/bin/abrt-d\r\n",
      "glatard   1135  0.0  0.5 1038184 91540 ?       Ssl  10:28   0:16 /usr/bin/nautil\r\n",
      "polkitd   1141  0.0  0.1 1872692 19332 ?       Ssl  May24   0:06 /usr/lib/polkit\r\n",
      "root      1329  0.0  0.0 687772 13232 ?        Ssl  May24   0:20 /usr/sbin/Netwo\r\n",
      "root      1353  0.0  0.0 239460  6924 ?        Ss   May24   0:02 /usr/sbin/cupsd\r\n",
      "root      1358  0.0  0.1 1737820 17232 ?       Ssl  May24   0:00 /usr/sbin/libvi\r\n",
      "root      1368  0.0  0.0   3700  1900 ?        Ss   May24   0:00 /usr/sbin/atd -\r\n",
      "root      1374  0.0  0.0 217252  2708 ?        Ss   May24   0:00 /usr/sbin/crond\r\n",
      "root      1381  0.0  0.0 446308  5888 ?        Ssl  May24   0:00 /usr/sbin/gdm\r\n",
      "colord    1385  0.0  0.0 450812  9708 ?        Ssl  May24   0:00 /usr/libexec/co\r\n",
      "root      1654  0.0  0.0  12336  4236 ?        Ss   May24   0:00 /usr/sbin/wpa_s\r\n",
      "dnsmasq   1968  0.0  0.0   8428  1148 ?        S    May24   0:00 /usr/sbin/dnsma\r\n",
      "root      1969  0.0  0.0   8400   348 ?        S    May24   0:00 /usr/sbin/dnsma\r\n",
      "root      2285  0.0  0.0 459356  7080 ?        Ssl  May24   0:07 /usr/libexec/up\r\n",
      "root      2311  0.0  0.0  15244  4916 ?        S    May24   0:00 /sbin/dhclient \r\n",
      "root      2565  0.0  0.0 526492  8516 ?        Sl   May24   0:00 gdm-session-wor\r\n",
      "glatard   2573  0.0  0.0  20520  5944 ?        Ss   May24   0:01 /usr/lib/system\r\n",
      "glatard   2575  0.0  0.0  25088  3500 ?        S    May24   0:00 (sd-pam)\r\n",
      "glatard   2587  4.2  0.0 3402992 11112 ?       S<sl May24  51:31 /usr/bin/pulsea\r\n",
      "glatard   2592  0.0  0.0 668584  4660 ?        SLl  May24   0:01 /usr/bin/gnome-\r\n",
      "glatard   2604  0.0  0.0 268596  3144 ?        Ss   May24   0:00 /usr/bin/dbus-b\r\n",
      "glatard   2605  0.0  0.0   7436  4760 ?        S    May24   0:06 dbus-broker --l\r\n",
      "root      2607  0.0  0.0      0     0 ?        S<   May24   0:00 [krfcommd]\r\n",
      "glatard   2610  0.0  0.0 368616  4520 tty2     Ssl+ May24   0:00 /usr/libexec/gd\r\n",
      "glatard   2613  0.0  0.0 762636 10316 tty2     Sl+  May24   0:00 /usr/libexec/gn\r\n",
      "glatard   2685  8.7  3.6 3392356 594708 tty2   Rl+  May24 104:39 /usr/bin/gnome-\r\n",
      "glatard   2733  0.0  0.0 446680  5804 ?        Ssl  May24   0:00 /usr/libexec/gv\r\n",
      "glatard   2741  0.0  0.0 378144  5132 ?        Sl   May24   0:00 /usr/libexec/gv\r\n",
      "glatard   2757  3.1  1.9 1043084 318532 tty2   Rl+  May24  37:40 /usr/bin/Xwayla\r\n",
      "glatard   2785  0.0  0.0 305132  5344 ?        Ssl  May24   0:00 /usr/libexec/at\r\n",
      "glatard   2791  0.0  0.0 268332  1856 ?        S    May24   0:00 /usr/bin/dbus-b\r\n",
      "glatard   2793  0.0  0.0   5184  2528 ?        S    May24   0:00 dbus-broker --l\r\n",
      "glatard   2798  0.0  0.0 160700  5840 ?        Ssl  May24   0:09 /usr/libexec/at\r\n",
      "glatard   2837  0.2  0.0 593112  8364 tty2     Rl   May24   3:29 ibus-daemon --x\r\n",
      "glatard   2841  0.0  0.0 443440  5088 tty2     Sl   May24   0:00 /usr/libexec/ib\r\n",
      "glatard   2842  0.0  0.1 548404 17888 tty2     Rl   May24   0:33 /usr/libexec/ib\r\n",
      "glatard   2844  0.0  0.1 490908 17292 tty2     Sl   May24   0:00 /usr/libexec/ib\r\n",
      "glatard   2847  0.0  0.0 443388  5164 ?        Ssl  May24   0:00 /usr/libexec/ib\r\n",
      "glatard   2861  0.0  0.0 442572  4176 ?        Ssl  May24   0:00 /usr/libexec/xd\r\n",
      "glatard   2865  0.0  0.1 631320 19212 ?        Ssl  May24   0:01 /usr/libexec/gn\r\n",
      "glatard   2869  0.0  0.1 1379320 26540 ?       Ssl  May24   0:00 /usr/libexec/ev\r\n",
      "glatard   2880  0.0  0.0 156572  5196 ?        Ssl  May24   0:00 /usr/libexec/dc\r\n",
      "glatard   2887  0.0  0.0 1000452 7164 ?        Ssl  May24   0:01 /usr/libexec/gv\r\n",
      "glatard   2891  0.0  0.0 442676  4712 ?        Ssl  May24   0:00 /usr/libexec/gv\r\n",
      "glatard   2895  0.0  0.0 442744  4432 ?        Ssl  May24   0:00 /usr/libexec/gv\r\n",
      "glatard   2898  0.0  0.1 748792 23084 ?        SLsl May24   0:00 /usr/libexec/go\r\n",
      "glatard   2905  0.0  0.0 450240  3872 ?        Ssl  May24   0:03 /usr/libexec/go\r\n",
      "glatard   2910  0.0  0.0 377532 10992 ?        Ssl  May24   0:12 /usr/libexec/gv\r\n",
      "glatard   2911  0.0  0.0 523636  5936 ?        Ssl  May24   0:00 /usr/libexec/gv\r\n",
      "glatard   2920  0.0  0.0 445064  5200 ?        Ssl  May24   0:00 /usr/libexec/gv\r\n",
      "glatard   2927  0.0  0.0 598092  7828 tty2     Sl+  May24   0:12 /usr/libexec/gs\r\n",
      "glatard   2929  0.0  0.0 544104 13028 tty2     Sl+  May24   0:01 /usr/libexec/gs\r\n",
      "glatard   2930  0.0  0.1 810444 16424 tty2     Sl+  May24   0:02 /usr/libexec/gs\r\n",
      "glatard   2933  0.0  0.0 444248  4872 tty2     Sl+  May24   0:00 /usr/libexec/gs\r\n",
      "glatard   2935  0.0  0.0 452044  6236 tty2     Sl+  May24   0:00 /usr/libexec/gs\r\n",
      "glatard   2939  0.0  0.1 1491148 16408 tty2    Sl+  May24   0:01 /usr/libexec/gs\r\n",
      "glatard   2940  0.0  0.0 458356  7936 tty2     Sl+  May24   0:00 /usr/libexec/gs\r\n",
      "glatard   2941  0.0  0.0 396316 13132 tty2     Sl+  May24   0:01 /usr/libexec/gs\r\n",
      "glatard   2946  0.0  0.0 544672 13976 tty2     Sl+  May24   0:00 /usr/libexec/gs\r\n",
      "glatard   2948  0.0  0.0 444244  4860 tty2     Sl+  May24   0:00 /usr/libexec/gs\r\n",
      "glatard   2951  0.0  0.0 591636  4892 tty2     Sl+  May24   0:00 /usr/libexec/gs\r\n",
      "glatard   2953  0.0  0.0 703904 15872 tty2     Sl+  May24   0:01 /usr/libexec/gs\r\n",
      "glatard   2958  0.0  0.0 544680 14128 tty2     Sl+  May24   0:01 /usr/libexec/gs\r\n",
      "glatard   2965  0.0  0.0 443792  4600 tty2     Sl+  May24   0:00 /usr/libexec/gs\r\n",
      "glatard   2967  0.0  0.0 481664 15908 tty2     Sl+  May24   0:00 /usr/libexec/gs\r\n",
      "glatard   2975  0.0  0.0 600032  7852 tty2     Sl+  May24   0:11 /usr/libexec/gs\r\n",
      "glatard   2980  0.0  0.0 519460  6152 tty2     Sl+  May24   0:06 /usr/libexec/gs\r\n",
      "glatard   3049  0.0  0.0 549196  9276 tty2     Sl+  May24   0:00 /usr/libexec/gs\r\n",
      "glatard   3063  0.0  0.4 1919216 77308 ?       Ssl  May24   0:09 /usr/libexec/ev\r\n",
      "glatard   3078  0.0  0.0 369856  5356 tty2     Sl   May24   0:59 /usr/libexec/ib\r\n",
      "glatard   3168  0.0  0.1 1135004 24192 tty2    Sl+  May24   0:00 /usr/libexec/ev\r\n",
      "glatard   3169  0.0  0.0 410264 11872 ?        Ssl  May24   0:00 /usr/bin/abrt-a\r\n",
      "glatard   3172  0.0  2.4 1329540 402396 tty2   Sl+  May24   0:54 /usr/bin/gnome-\r\n",
      "glatard   3174  1.4  0.9 1078476 159608 tty2   Sl+  May24  17:15 /opt/Rambox/ram\r\n",
      "glatard   3177  3.3  1.2 997196 205264 tty2    SNl+ May24  39:58 /usr/libexec/tr\r\n",
      "glatard   3181  0.0  0.0 231792  4640 tty2     Sl+  May24   0:00 /usr/libexec/gs\r\n",
      "root      3213  0.0  0.0 466104  9924 ?        Ssl  May24   0:00 /usr/sbin/abrt-\r\n",
      "glatard   3250  0.0  0.1 397456 19944 tty2     S+   May24   0:00 /opt/Rambox/ram\r\n",
      "glatard   3272  0.0  0.0 397456 10104 tty2     S+   May24   0:03 /opt/Rambox/ram\r\n",
      "glatard   3310  0.0  0.1 758240 17320 ?        Ssl  May24   0:06 /usr/bin/kwalle\r\n",
      "glatard   3356  0.0  0.1 1063216 18968 ?       Ssl  May24   0:00 /usr/libexec/ev\r\n",
      "root      3419  0.0  0.0 273980 14448 ?        Ss   May24   0:00 /usr/bin/python\r\n",
      "glatard   3439  1.3  1.6 790548 260932 tty2    Sl+  May24  16:26 /opt/Rambox/ram\r\n",
      "glatard   3444  0.1  0.3 490644 50844 tty2     Sl+  May24   2:02 /opt/Rambox/ram\r\n",
      "glatard   3446  0.0  0.0 242208 15548 ?        S    May24   0:00 python3 -Es /us\r\n",
      "glatard   3448  0.0  0.0 403868  9092 tty2     S+   May24   0:00 /opt/Rambox/ram\r\n",
      "glatard   3450  0.8  1.1 876540 184236 tty2    Sl+  May24  10:16 /opt/Rambox/ram\r\n",
      "glatard   3597  0.0  0.4 609608 69732 ?        Ssl  May24   1:08 /usr/libexec/gn\r\n",
      "glatard   3603  0.0  0.0 219840  6472 pts/0    Ss+  May24   0:00 bash\r\n",
      "glatard   3650  2.1  2.2 1046704 362576 tty2   Sl+  May24  25:28 /opt/Rambox/ram\r\n",
      "glatard   3652  0.1  0.9 839332 147008 tty2    Sl+  May24   1:14 /opt/Rambox/ram\r\n",
      "glatard   3654  0.1  1.3 898780 216424 tty2    Sl+  May24   2:13 /opt/Rambox/ram\r\n",
      "glatard   3656  0.0  0.9 836316 149092 tty2    Sl+  May24   1:09 /opt/Rambox/ram\r\n",
      "glatard   3663  2.9  2.6 1135744 427044 tty2   Sl+  May24  35:56 /opt/Rambox/ram\r\n",
      "glatard   3668  0.1  1.2 862080 195336 tty2    Sl+  May24   2:11 /opt/Rambox/ram\r\n",
      "glatard   3689  0.0  0.9 850060 145100 tty2    Sl+  May24   1:05 /opt/Rambox/ram\r\n",
      "glatard   3705  0.0  0.8 835148 142208 tty2    Sl+  May24   1:10 /opt/Rambox/ram\r\n",
      "glatard   3714  0.1  0.9 841996 147108 tty2    Sl+  May24   1:15 /opt/Rambox/ram\r\n",
      "glatard   3718  0.0  0.8 834564 140904 tty2    Sl+  May24   1:01 /opt/Rambox/ram\r\n",
      "root      4236  0.0  0.1 1382952 16468 ?       Ssl  May24   0:12 /usr/libexec/sn\r\n",
      "root      4270  0.0  0.0 624956 11812 ?        Ssl  May24   0:01 /usr/libexec/fw\r\n",
      "root      4276  0.0  0.0 445476  5448 ?        Ssl  May24   0:00 /usr/libexec/bo\r\n",
      "glatard   5082  5.2  3.5 4602044 576416 tty2   Sl+  May24  62:52 /usr/lib64/fire\r\n",
      "glatard   5217  1.4  3.8 3482448 614328 tty2   Sl+  May24  17:20 /usr/lib64/fire\r\n",
      "glatard   5269  1.5  1.5 9313296 244916 tty2   Sl+  May24  18:46 /usr/lib64/fire\r\n",
      "glatard   6469  0.0  0.0   7116  2976 ?        S    May24   0:00 /usr/bin/ssh-ag\r\n",
      "glatard   6786  1.3  3.4 3429768 550604 tty2   Sl+  May24  15:34 /usr/lib64/fire\r\n",
      "root      7021  0.1  0.1 1260844 21452 ?       Ssl  May24   1:19 /usr/bin/contai\r\n",
      "root      7023  0.0  0.2 1234168 45364 ?       Ssl  May24   0:53 /usr/bin/docker\r\n",
      "glatard   8395  0.4  0.3 862588 58832 tty2     Sl+  13:09   1:03 /usr/share/code\r\n",
      "glatard   8399  0.0  0.0 383620 12852 tty2     S+   13:09   0:00 /usr/share/code\r\n",
      "glatard   8423  0.7  0.2 486508 36616 tty2     Sl+  13:09   1:58 /usr/share/code\r\n",
      "glatard   8437  0.0  0.2 453008 32320 tty2     Sl+  13:09   0:00 /usr/share/code\r\n",
      "glatard   8449  1.8  1.0 1018244 166844 tty2   SLl+ 13:09   4:46 /proc/self/exe \r\n",
      "glatard   8512  0.0  0.3 772040 55080 tty2     Sl+  13:09   0:08 /usr/share/code\r\n",
      "glatard   8544  0.1  0.4 524760 75592 tty2     Sl+  13:09   0:23 /usr/share/code\r\n",
      "glatard   8545  0.0  0.0 219748  6068 pts/5    Ss+  13:09   0:00 /bin/bash\r\n",
      "glatard   8623  0.6  0.5 483336 80892 tty2     Sl+  13:09   1:42 /usr/share/code\r\n",
      "glatard   8769  0.0  1.4 941908 238232 tty2    Sl+  May24   0:34 evince /tmp/moz\r\n",
      "glatard   8775  0.0  0.0 155840  3736 ?        Ssl  May24   0:00 /usr/libexec/ev\r\n",
      "glatard   9153  0.0  0.0 520812  5916 ?        Sl   May24   0:00 /usr/libexec/gv\r\n",
      "glatard   9163  0.0  0.0 520992  6236 ?        Sl   May24   0:00 /usr/libexec/gv\r\n",
      "glatard   9176  0.0  1.2 779516 205036 tty2    Sl+  May24   0:06 /usr/bin/evince\r\n",
      "glatard   9183  0.0  0.0 521932  6400 ?        Sl   May24   0:00 /usr/libexec/gv\r\n",
      "glatard  10262  0.0  0.0 457612  5976 ?        Sl   May24   0:00 /usr/libexec/gv\r\n",
      "glatard  10366  0.5  2.7 3271928 445368 tty2   Sl+  May24   6:21 /usr/lib64/fire\r\n",
      "glatard  10511  0.6  3.5 3334372 570700 tty2   Sl+  May24   7:19 /usr/lib64/fire\r\n",
      "glatard  10708  5.3  4.7 3755848 761316 tty2   Sl+  13:52  11:40 /usr/lib64/thun\r\n",
      "glatard  11885  0.0  0.0 364448  1800 ?        Ss   May24   0:02 gpg-agent --hom\r\n",
      "glatard  13264  0.1  0.7 824544 115936 tty2    Sl+  14:39   0:13 /usr/bin/evince\r\n",
      "glatard  15291  0.0  0.1 366368 27276 tty2     Sl+  15:06   0:01 /usr/share/code\r\n",
      "root     18695  0.3  0.0      0     0 ?        I    15:48   0:21 [kworker/u8:3-e\r\n",
      "glatard  19454  3.5  2.3 3102552 372732 tty2   Sl+  16:03   3:01 /usr/lib64/fire\r\n",
      "glatard  19504  0.5  1.3 2739692 216416 tty2   Sl+  16:03   0:30 /usr/lib64/fire\r\n",
      "root     20451  0.1  0.0      0     0 ?        I    16:26   0:04 [kworker/u8:2-i\r\n",
      "root     21282  0.0  0.0      0     0 ?        I    16:41   0:00 [kworker/0:1-rc\r\n",
      "glatard  21634  0.1  0.1 712876 28088 tty2     Sl+  16:48   0:03 /opt/Rambox/ram\r\n",
      "root     21754  0.1  0.0      0     0 ?        I<   16:50   0:03 [kworker/u9:0-i\r\n",
      "root     22348  0.0  0.0      0     0 ?        I<   17:06   0:00 [kworker/u9:1-r\r\n",
      "root     22638  0.0  0.0      0     0 ?        I    17:10   0:00 [kworker/1:0-ev\r\n",
      "glatard  22754  0.2  0.3 456128 64332 pts/0    Sl   17:10   0:02 /home/glatard/v\r\n",
      "glatard  22800 10.1  1.6 2781936 266716 tty2   Sl+  17:10   1:52 /usr/lib64/fire\r\n",
      "glatard  22842  0.0  0.2 749396 47764 ?        Ssl  17:10   0:01 /home/glatard/v\r\n",
      "root     22895  0.0  0.0      0     0 ?        I    17:11   0:00 [kworker/2:2-ev\r\n",
      "glatard  22985  2.0  1.0 1380472 176952 pts/0  Sl   17:11   0:20 gimp brainhackS\r\n",
      "glatard  23000  0.0  0.1 396152 17748 pts/0    Sl   17:11   0:00 /usr/lib64/gimp\r\n",
      "root     23193  0.0  0.0      0     0 ?        I    17:15   0:00 [kworker/3:1-ev\r\n",
      "root     23381  0.0  0.0      0     0 ?        I    17:19   0:00 [kworker/0:0-rc\r\n",
      "root     23386  0.0  0.0      0     0 ?        I    17:19   0:00 [kworker/u8:1-e\r\n",
      "root     23414  0.0  0.0      0     0 ?        I    17:20   0:00 [kworker/3:2-ev\r\n",
      "root     23477  0.1  0.0      0     0 ?        I    17:22   0:00 [kworker/1:1-ev\r\n",
      "root     23530  0.8  0.0      0     0 ?        I    17:23   0:03 [kworker/2:1-ev\r\n",
      "root     23597  0.0  0.0      0     0 ?        I<   17:24   0:00 [kworker/u9:2]\r\n",
      "root     23598  0.1  0.0      0     0 ?        I    17:24   0:00 [kworker/0:2-ev\r\n",
      "root     23667  0.0  0.0      0     0 ?        I    17:26   0:00 [kworker/3:0-ev\r\n",
      "root     23718  0.0  0.0      0     0 ?        I    17:26   0:00 [kworker/u8:0-e\r\n",
      "glatard  23808  0.2  0.2 770716 47216 tty2     Sl+  17:28   0:00 /opt/Rambox/ram\r\n",
      "glatard  23820  0.2  0.2 770716 47368 tty2     Sl+  17:28   0:00 /opt/Rambox/ram\r\n",
      "glatard  23832  0.2  0.2 770716 47196 tty2     Sl+  17:28   0:00 /opt/Rambox/ram\r\n",
      "root     23851  0.0  0.0      0     0 ?        I    17:28   0:00 [kworker/1:2-ev\r\n",
      "glatard  23854  0.0  0.0 218540  3348 pts/1    Rs+  17:29   0:00 ps aux\r\n",
      "root     27002  0.0  0.0 378284  6844 ?        Sl   08:49   0:00 gdm-session-wor\r\n",
      "glatard  27128  0.0  1.2 1686904 200160 ?      Ssl  08:51   0:03 /usr/bin/gnome-\r\n",
      "glatard  27220  0.0  0.0  42844  3600 ?        Ss   08:51   0:00 /usr/libexec/bl\r\n",
      "glatard  27256  0.0  0.0  14272  2940 tty2     Sl+  08:51   0:00 /usr/bin/zoom\r\n",
      "glatard  27272  0.0  0.0 216384  1648 tty2     S+   08:51   0:00 sh -c export SS\r\n",
      "glatard  27273 90.3  8.2 6243404 1323964 tty2  SLl+ 08:51 467:25 /opt/zoom/zoom\r\n",
      "glatard  27762  6.5  0.4 1190512 77064 tty2    Sl+  08:57  33:43 gnome-control-c\r\n",
      "glatard  29408  1.1  3.3 3286600 532552 tty2   Sl+  09:25   5:23 /usr/lib64/fire\r\n",
      "glatard  29577  0.0  0.8 976312 133336 tty2    Sl+  09:27   0:14 evince /tmp/moz\r\n",
      "glatard  29914  0.8  1.3 3008524 219064 tty2   Sl+  09:33   4:04 /usr/lib64/fire\r\n"
     ]
    }
   ],
   "source": [
    "!ps aux"
   ]
  },
  {
   "cell_type": "markdown",
   "metadata": {
    "slideshow": {
     "slide_type": "slide"
    }
   },
   "source": [
    "## Process trees\n",
    "\n",
    "All processes but one have a parent which is generally the program from which the process was launched. Processes might also create child processes, through a system call called _fork_. The process tree can be viewed using `pstree` or `htop -t`:"
   ]
  },
  {
   "cell_type": "code",
   "execution_count": 6,
   "metadata": {
    "slideshow": {
     "slide_type": "fragment"
    }
   },
   "outputs": [
    {
     "name": "stdout",
     "output_type": "stream",
     "text": [
      "systemd─┬─ModemManager───2*[{ModemManager}]\r\n",
      "        ├─NetworkManager─┬─dhclient\r\n",
      "        │                └─2*[{NetworkManager}]\r\n",
      "        ├─abrt-dbus───2*[{abrt-dbus}]\r\n",
      "        ├─2*[abrt-dump-journ]\r\n",
      "        ├─abrtd───2*[{abrtd}]\r\n",
      "        ├─accounts-daemon───2*[{accounts-daemon}]\r\n",
      "        ├─alsactl\r\n",
      "        ├─atd\r\n",
      "        ├─auditd───{auditd}\r\n",
      "        ├─avahi-daemon───avahi-daemon\r\n",
      "        ├─bluetoothd\r\n",
      "        ├─boltd───2*[{boltd}]\r\n",
      "        ├─chronyd\r\n",
      "        ├─colord───2*[{colord}]\r\n",
      "        ├─containerd───14*[{containerd}]\r\n",
      "        ├─crond\r\n",
      "        ├─cupsd\r\n",
      "        ├─dbus-broker-lau───dbus-broker\r\n",
      "        ├─dnsmasq───dnsmasq\r\n",
      "        ├─dockerd───12*[{dockerd}]\r\n",
      "        ├─firefox─┬─2*[Web Content───26*[{Web Content}]]\r\n",
      "        │         ├─2*[Web Content───25*[{Web Content}]]\r\n",
      "        │         ├─3*[Web Content───24*[{Web Content}]]\r\n",
      "        │         ├─Web Content───27*[{Web Content}]\r\n",
      "        │         ├─WebExtensions───25*[{WebExtensions}]\r\n",
      "        │         ├─file:// Content───24*[{file:// Content}]\r\n",
      "        │         └─64*[{firefox}]\r\n",
      "        ├─firewalld───{firewalld}\r\n",
      "        ├─fwupd───4*[{fwupd}]\r\n",
      "        ├─gdm─┬─gdm-session-wor─┬─gdm-wayland-ses─┬─gnome-session-b─┬─evolution+\r\n",
      "        │     │                 │                 │                 ├─gnome-she+\r\n",
      "        │     │                 │                 │                 ├─gnome-sof+\r\n",
      "        │     │                 │                 │                 ├─gsd-a11y-+\r\n",
      "        │     │                 │                 │                 ├─gsd-clipb+\r\n",
      "        │     │                 │                 │                 ├─gsd-color+++\r\n",
      "        │     │                 │                 │                 ├─gsd-datet+\r\n",
      "        │     │                 │                 │                 ├─gsd-disk-+\r\n",
      "        │     │                 │                 │                 ├─gsd-house+\r\n",
      "        │     │                 │                 │                 ├─gsd-keybo+\r\n",
      "        │     │                 │                 │                 ├─gsd-media+\r\n",
      "        │     │                 │                 │                 ├─gsd-mouse+++\r\n",
      "        │     │                 │                 │                 ├─gsd-power+++\r\n",
      "        │     │                 │                 │                 ├─gsd-print+\r\n",
      "        │     │                 │                 │                 ├─gsd-rfkil+\r\n",
      "        │     │                 │                 │                 ├─gsd-scree+\r\n",
      "        │     │                 │                 │                 ├─gsd-shari+\r\n",
      "        │     │                 │                 │                 ├─gsd-smart+\r\n",
      "        │     │                 │                 │                 ├─gsd-sound+++\r\n",
      "        │     │                 │                 │                 ├─gsd-wacom+++\r\n",
      "        │     │                 │                 │                 ├─gsd-xsett+\r\n",
      "        │     │                 │                 │                 ├─rambox─┬─+\r\n",
      "        │     │                 │                 │                 │        ├─+\r\n",
      "        │     │                 │                 │                 │        ├─+\r\n",
      "        │     │                 │                 │                 │        ├─+\r\n",
      "        │     │                 │                 │                 │        ├─+\r\n",
      "        │     │                 │                 │                 │        ├─+\r\n",
      "        │     │                 │                 │                 │        ├─+\r\n",
      "        │     │                 │                 │                 │        └─+\r\n",
      "        │     │                 │                 │                 ├─tracker-m+\r\n",
      "        │     │                 │                 │                 └─3*[{gnome+\r\n",
      "        │     │                 │                 └─2*[{gdm-wayland-ses}]\r\n",
      "        │     │                 └─2*[{gdm-session-wor}]\r\n",
      "        │     └─2*[{gdm}]\r\n",
      "        ├─gnome-keyring-d───3*[{gnome-keyring-d}]\r\n",
      "        ├─gsd-printer───2*[{gsd-printer}]\r\n",
      "        ├─gssproxy───5*[{gssproxy}]\r\n",
      "        ├─ibus-x11───3*[{ibus-x11}]\r\n",
      "        ├─libvirtd───16*[{libvirtd}]\r\n",
      "        ├─mcelog\r\n",
      "        ├─polkitd───7*[{polkitd}]\r\n",
      "        ├─2*[python3]\r\n",
      "        ├─rngd───4*[{rngd}]\r\n",
      "        ├─rtkit-daemon───2*[{rtkit-daemon}]\r\n",
      "        ├─skypeforlinux─┬─skypeforlinux───skypeforlinux\r\n",
      "        │               ├─skypeforlinux───6*[{skypeforlinux}]\r\n",
      "        │               ├─skypeforlinux───5*[{skypeforlinux}]\r\n",
      "        │               ├─skypeforlinux───38*[{skypeforlinux}]\r\n",
      "        │               ├─skypeforlinux───4*[{skypeforlinux}]\r\n",
      "        │               └─28*[{skypeforlinux}]\r\n",
      "        ├─snapd───17*[{snapd}]\r\n",
      "        ├─systemd─┬─(sd-pam)\r\n",
      "        │         ├─abrt-applet───3*[{abrt-applet}]\r\n",
      "        │         ├─at-spi-bus-laun─┬─dbus-broker-lau───dbus-broker\r\n",
      "        │         │                 └─3*[{at-spi-bus-laun}]\r\n",
      "        │         ├─at-spi2-registr───2*[{at-spi2-registr}]\r\n",
      "        │         ├─dbus-broker-lau───dbus-broker\r\n",
      "        │         ├─dconf-service───2*[{dconf-service}]\r\n",
      "        │         ├─evinced───2*[{evinced}]\r\n",
      "        │         ├─evolution-addre───5*[{evolution-addre}]\r\n",
      "        │         ├─evolution-calen───13*[{evolution-calen}]\r\n",
      "        │         ├─evolution-sourc───3*[{evolution-sourc}]\r\n",
      "        │         ├─gnome-calendar───5*[{gnome-calendar}]\r\n",
      "        │         ├─gnome-shell-cal───5*[{gnome-shell-cal}]\r\n",
      "        │         ├─gnome-terminal-─┬─bash───evince───4*[{evince}]\r\n",
      "        │         │                 ├─bash───jupyter-noteboo─┬─python3─┬─pstree\r\n",
      "        │         │                 │                        │         └─8*[{py+\r\n",
      "        │         │                 │                        └─2*[{jupyter-note+\r\n",
      "        │         │                 ├─bash───sudo───unshare───bash───top\r\n",
      "        │         │                 ├─2*[bash]\r\n",
      "        │         │                 ├─2*[bash───htop]\r\n",
      "        │         │                 └─3*[{gnome-terminal-}]\r\n",
      "        │         ├─goa-daemon───3*[{goa-daemon}]\r\n",
      "        │         ├─goa-identity-se───3*[{goa-identity-se}]\r\n",
      "        │         ├─gpg-agent\r\n",
      "        │         ├─gvfs-afc-volume───3*[{gvfs-afc-volume}]\r\n",
      "        │         ├─gvfs-goa-volume───2*[{gvfs-goa-volume}]\r\n",
      "        │         ├─gvfs-gphoto2-vo───2*[{gvfs-gphoto2-vo}]\r\n",
      "        │         ├─gvfs-mtp-volume───2*[{gvfs-mtp-volume}]\r\n",
      "        │         ├─gvfs-udisks2-vo───2*[{gvfs-udisks2-vo}]\r\n",
      "        │         ├─gvfsd─┬─gvfsd-http───2*[{gvfsd-http}]\r\n",
      "        │         │       ├─gvfsd-trash───2*[{gvfsd-trash}]\r\n",
      "        │         │       └─2*[{gvfsd}]\r\n",
      "        │         ├─gvfsd-fuse───5*[{gvfsd-fuse}]\r\n",
      "        │         ├─gvfsd-metadata───2*[{gvfsd-metadata}]\r\n",
      "        │         ├─ibus-portal───2*[{ibus-portal}]\r\n",
      "        │         ├─kwalletd5───5*[{kwalletd5}]\r\n",
      "        │         ├─obexd\r\n",
      "        │         ├─pulseaudio───2*[{pulseaudio}]\r\n",
      "        │         ├─tracker-store───4*[{tracker-store}]\r\n",
      "        │         └─xdg-permission-───2*[{xdg-permission-}]\r\n",
      "        ├─systemd-journal\r\n",
      "        ├─systemd-logind\r\n",
      "        ├─systemd-machine\r\n",
      "        ├─systemd-udevd\r\n",
      "        ├─udisksd───4*[{udisksd}]\r\n",
      "        ├─upowerd───2*[{upowerd}]\r\n",
      "        └─wpa_supplicant\r\n"
     ]
    }
   ],
   "source": [
    "!pstree"
   ]
  },
  {
   "cell_type": "markdown",
   "metadata": {
    "slideshow": {
     "slide_type": "slide"
    }
   },
   "source": [
    "## Interacting with processes\n",
    "\n",
    "The `kill` command can be used to send signals to processes, using their PID. The default signal sent by `kill` is `TERM`, which terminates the process.\n",
    "\n",
    "`[demo in terminal]`\n",
    "\n",
    "Using these commands from the chrooted environment, it's clear that __mocker v0.1__ does not provide a complete illusion that we're on a different computer."
   ]
  },
  {
   "cell_type": "markdown",
   "metadata": {
    "slideshow": {
     "slide_type": "slide"
    }
   },
   "source": [
    "## Isolating processes through namespaces\n",
    "\n",
    "Linux namespaces provide a way to isolate processes (and more) from the rest of the host. Namespaces are a key feature to enable containers. The `unshare` command can be used to create namespaces."
   ]
  },
  {
   "cell_type": "code",
   "execution_count": 3,
   "metadata": {
    "slideshow": {
     "slide_type": "fragment"
    }
   },
   "outputs": [
    {
     "name": "stdout",
     "output_type": "stream",
     "text": [
      "[sudo] password for glatard: \n",
      "[sudo] password for glatard: "
     ]
    }
   ],
   "source": [
    "!sudo unshare -fp chroot $PWD/container-root /bin/sh -c \"/bin/mount -t proc proc /proc && /bin/sh\""
   ]
  },
  {
   "cell_type": "markdown",
   "metadata": {
    "slideshow": {
     "slide_type": "fragment"
    }
   },
   "source": [
    "Now only the processes started from  our container are visible. We can't kill or even see the other processes on the host. Our container starts looking like a different computer now. But it still shares network and resources (CPU, memory) with the host."
   ]
  },
  {
   "cell_type": "markdown",
   "metadata": {
    "slideshow": {
     "slide_type": "slide"
    }
   },
   "source": [
    "## Isolating network through namespaces\n",
    "\n",
    "Namespaces can also isolate network devices from the container. It can be useful if you want to make sure that the container doesn't send any information over the network:\n",
    "\n",
    "### Without network isolation\n",
    "\n",
    "Let's try pinging IP address 172.217.13.195 from the __mocker v0.2__ container (it works).\n",
    "\n",
    "### With network isolation (__mocker v0.2.1__)\n",
    "\n",
    "We can use an extra option of `unshare` to unshare the network with our containerized process:\n",
    "\n"
   ]
  },
  {
   "cell_type": "code",
   "execution_count": 12,
   "metadata": {
    "slideshow": {
     "slide_type": "fragment"
    }
   },
   "outputs": [
    {
     "name": "stdout",
     "output_type": "stream",
     "text": [
      "[sudo] password for glatard: \n",
      "[sudo] password for glatard: "
     ]
    }
   ],
   "source": [
    "!sudo unshare -fpn chroot $PWD/container-root /bin/sh -c \"/bin/mount -t proc proc /proc && /bin/sh\""
   ]
  },
  {
   "cell_type": "markdown",
   "metadata": {
    "slideshow": {
     "slide_type": "fragment"
    }
   },
   "source": [
    "Let's try pinging IP address 172.217.13.195 from the __mocker v0.2.1__ container (network is unreachable).\n"
   ]
  },
  {
   "cell_type": "markdown",
   "metadata": {
    "slideshow": {
     "slide_type": "fragment"
    }
   },
   "source": [
    "Namespaces can also be used to isolate:\n",
    "* Mounts\n",
    "* Hostname\n",
    "* ... and more"
   ]
  },
  {
   "cell_type": "markdown",
   "metadata": {
    "slideshow": {
     "slide_type": "slide"
    }
   },
   "source": [
    "# __mocker v0.3__: adding memory restrictions with cgroups\n",
    "\n",
    "Maybe you don't want your memory-hungry containerized application to bloat your computer. Linux _cgroups_ (control groups) can allocate restricted amounts of memory (but also CPU and other resources) to a group of processes.\n",
    "\n",
    "For instance, using cgroups, we can make sure that our container will only be allowed to use 10MB of memory. \n",
    "\n",
    "First, let's create a text file of 100M:\n",
    "\n"
   ]
  },
  {
   "cell_type": "code",
   "execution_count": 16,
   "metadata": {
    "slideshow": {
     "slide_type": "fragment"
    }
   },
   "outputs": [
    {
     "name": "stdout",
     "output_type": "stream",
     "text": [
      "base64: write error: Broken pipe\r\n",
      "base64: write error\r\n"
     ]
    }
   ],
   "source": [
    "!base64 /dev/urandom | head -c 100000000 > container-root/file.txt"
   ]
  },
  {
   "cell_type": "markdown",
   "metadata": {
    "slideshow": {
     "slide_type": "fragment"
    }
   },
   "source": [
    "and make sure that we can read it from our __mocker v0.2.1__ container (assuming that the host has more than 100M of available RAM):"
   ]
  },
  {
   "cell_type": "code",
   "execution_count": null,
   "metadata": {
    "slideshow": {
     "slide_type": "fragment"
    }
   },
   "outputs": [],
   "source": [
    "a=$(cat file.txt)"
   ]
  },
  {
   "cell_type": "markdown",
   "metadata": {
    "slideshow": {
     "slide_type": "slide"
    }
   },
   "source": [
    "Now let's create a cgroup and give it only 10MB of memory:\n"
   ]
  },
  {
   "cell_type": "code",
   "execution_count": null,
   "metadata": {
    "slideshow": {
     "slide_type": "fragment"
    }
   },
   "outputs": [
    {
     "name": "stdout",
     "output_type": "stream",
     "text": [
      "[sudo] password for glatard: \n",
      "[sudo] password for glatard: [sudo] password for glatard: "
     ]
    }
   ],
   "source": [
    "!sudo cgcreate -g \"memory:mygroup\"\n",
    "!sudo cgset -r memory.limit_in_bytes=10000000 mygroup # 10 MB"
   ]
  },
  {
   "cell_type": "markdown",
   "metadata": {
    "slideshow": {
     "slide_type": "slide"
    }
   },
   "source": [
    "Let's now assign our container to the cgroup, resulting in __mocker v0.3__:"
   ]
  },
  {
   "cell_type": "code",
   "execution_count": 17,
   "metadata": {
    "slideshow": {
     "slide_type": "fragment"
    }
   },
   "outputs": [
    {
     "name": "stdout",
     "output_type": "stream",
     "text": [
      "[sudo] password for glatard: \n",
      "[sudo] password for glatard: "
     ]
    }
   ],
   "source": [
    "!sudo cgexec -g \"memory:mygroup\" unshare -fpn chroot $PWD/container-root /bin/sh -c \"/bin/mount -t proc proc /proc && /bin/sh\""
   ]
  },
  {
   "cell_type": "markdown",
   "metadata": {
    "slideshow": {
     "slide_type": "fragment"
    }
   },
   "source": [
    "Let's try to read our 100M file from the container: it crashes!\n",
    "\n",
    "cgroups allow the Linux kernel to restrict the amount of resources that processes can use. cgroups can also be used to restrict the amount of CPU used by a group of processes, which can be very useful when multiple processes share the host (server, HPC). They are the third pillar of a containerization system."
   ]
  },
  {
   "cell_type": "markdown",
   "metadata": {
    "slideshow": {
     "slide_type": "slide"
    }
   },
   "source": [
    "# Conclusion\n",
    "\n",
    "Containers leverage the following Linux features:\n",
    "* `chroot`, to change the root directory to an archive containing the \"container image\"\n",
    "* `namespaces`, to isolate processes, network, users, mounts and hostname from the host\n",
    "* `cgroups`, to restrict the amount of CPU and RAM that processes can use\n",
    "\n",
    "They also build on:\n",
    "* overlay file systems, to build images with multiple layers (e.g., base OS + applications)\n",
    "* `seccomp`, to limit system calls that a process is allowed to do\n",
    "\n",
    "\n",
    "And now, let's play some [flashcards](https://flashcards.wizardzines.com/container-basics)\n"
   ]
  },
  {
   "cell_type": "code",
   "execution_count": null,
   "metadata": {},
   "outputs": [],
   "source": []
  }
 ],
 "metadata": {
  "celltoolbar": "Slideshow",
  "kernelspec": {
   "display_name": "Python 3",
   "language": "python",
   "name": "python3"
  },
  "language_info": {
   "codemirror_mode": {
    "name": "ipython",
    "version": 3
   },
   "file_extension": ".py",
   "mimetype": "text/x-python",
   "name": "python",
   "nbconvert_exporter": "python",
   "pygments_lexer": "ipython3",
   "version": "3.7.6"
  }
 },
 "nbformat": 4,
 "nbformat_minor": 2
}
