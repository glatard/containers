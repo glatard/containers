{
 "cells": [
  {
   "cell_type": "markdown",
   "metadata": {
    "slideshow": {
     "slide_type": "slide"
    }
   },
   "source": [
    " <div style=\"background-image: url('https://school.brainhackmtl.org/img/brainhackSchool.jpg');  background-size: 100% 100%;\"> \n",
    "\n",
    "\n",
    "\n",
    "<br/>\n",
    "<br/>\n",
    "<br/>\n",
    "<br/>\n",
    "<br/>\n",
    "<br/>\n",
    "<br/>\n",
    "<br/>\n",
    "<br/>\n",
    "<br/>\n",
    "<br/>\n",
    "<br/>\n",
    "<br/>\n",
    "<br/>\n",
    "<br/>\n",
    "\n",
    "# Containers are not magic\n",
    "<br/>\n",
    "\n",
    "## BrainHack School 2020\n",
    "<br/>\n",
    "\n",
    "### Tristan Glatard\n",
    "### 26 May, 2020\n",
    "\n",
    "<br/>\n",
    "<br/>\n",
    "<br/>\n",
    "<br/>\n",
    "<br/>\n",
    "<br/>\n",
    "<br/>\n",
    "<br/>\n",
    "<br/>\n",
    "<br/>\n",
    "<br/>\n"
   ]
  },
  {
   "cell_type": "markdown",
   "metadata": {
    "slideshow": {
     "slide_type": "slide"
    }
   },
   "source": [
    "# Week 1 strikes back\n",
    "\n",
    "In Week 1, you learned why and how to use Docker and Singularity containers during [Peer's wonderful lecture](https://github.com/neurodatascience/course-materials-2020/blob/master/lectures/12-may/02-intro-to-containerization/neurodatascience_virtualization_2020.pdf). Now you can't work without containers, they're really magic! \n",
    "\n",
    "![CommitStrip](https://www.commitstrip.com/wp-content/uploads/2017/02/Strip-Ou-sont-les-tests-unitaires-english650-final.jpg \"It's magic\")\n",
    "(only the last box of this is actually relevant, the first ones are a good intro to tomorrow's lecture)\n"
   ]
  },
  {
   "cell_type": "markdown",
   "metadata": {
    "slideshow": {
     "slide_type": "slide"
    }
   },
   "source": [
    "# Goals\n",
    "\n",
    "* Get to know more about the system (file system and processes) <img src=\"https://upload.wikimedia.org/wikipedia/commons/thumb/3/35/Tux.svg/440px-Tux.svg.png\" alt=\"Tux\" style=\"width: 100px;\"/>\n",
    "* Understand that containers aren't magic\n",
    "\n",
    "# Method\n",
    "\n",
    "* We will build \"mocker\", a tiny container engine"
   ]
  },
  {
   "cell_type": "markdown",
   "metadata": {
    "slideshow": {
     "slide_type": "slide"
    }
   },
   "source": [
    "# Resources\n",
    "\n",
    "![How containers work](https://jvns.ca/images/containers-cover.jpg \"https://wizardzines.com/zines/containers\")\n",
    "(available at https://wizardzines.com/zines/containers)\n",
    "* [\"What even is a container?\"](https://jvns.ca/blog/2016/10/10/what-even-is-a-container),  Julia Evans\n",
    "* `man unshare`, `man cgroups`"
   ]
  },
  {
   "cell_type": "markdown",
   "metadata": {
    "slideshow": {
     "slide_type": "slide"
    }
   },
   "source": [
    "# __mocker v0.1__: replacing file systems\n",
    "\n",
    "\n",
    "## File system mounts\n",
    "\n",
    "A file system provides a usable interface to storage devices, organized in files and directories. In Linux, file systems need to be appended, a.k.a _mounted_, under the `/` directory structure to be accessible. The location at which a file system is mounted is called a _mount point_. Mount points can be listed using command `df`:"
   ]
  },
  {
   "cell_type": "code",
   "execution_count": 1,
   "metadata": {
    "slideshow": {
     "slide_type": "fragment"
    }
   },
   "outputs": [
    {
     "name": "stdout",
     "output_type": "stream",
     "text": [
      "Filesystem              Type      Size  Used Avail Use% Mounted on\r\n",
      "devtmpfs                devtmpfs  7.7G     0  7.7G   0% /dev\r\n",
      "tmpfs                   tmpfs     7.7G  276M  7.5G   4% /dev/shm\r\n",
      "tmpfs                   tmpfs     7.7G  2.0M  7.7G   1% /run\r\n",
      "tmpfs                   tmpfs     7.7G     0  7.7G   0% /sys/fs/cgroup\r\n",
      "/dev/mapper/fedora-root ext4       49G   31G   17G  66% /\r\n",
      "tmpfs                   tmpfs     7.7G   10M  7.7G   1% /tmp\r\n",
      "/dev/nvme0n1p2          ext4      976M  209M  700M  23% /boot\r\n",
      "/dev/loop2              squashfs  161M  161M     0 100% /var/lib/snapd/snap/gnome-3-28-1804/116\r\n",
      "/dev/loop3              squashfs   28M   28M     0 100% /var/lib/snapd/snap/snapd/6953\r\n",
      "/dev/loop0              squashfs  227M  227M     0 100% /var/lib/snapd/snap/wine-platform-runtime/136\r\n",
      "/dev/loop1              squashfs   55M   55M     0 100% /var/lib/snapd/snap/core18/1705\r\n",
      "/dev/loop4              squashfs  227M  227M     0 100% /var/lib/snapd/snap/wine-platform-runtime/123\r\n",
      "/dev/nvme0n1p1          vfat      200M   19M  182M  10% /boot/efi\r\n",
      "/dev/loop5              squashfs   83M   83M     0 100% /var/lib/snapd/snap/zotero-snap/13\r\n",
      "/dev/loop6              squashfs   74M   74M     0 100% /var/lib/snapd/snap/wine-platform-3-stable/6\r\n",
      "/dev/loop7              squashfs   95M   95M     0 100% /var/lib/snapd/snap/github-desktop/63\r\n",
      "/dev/loop8              squashfs   63M   63M     0 100% /var/lib/snapd/snap/gtk-common-themes/1506\r\n",
      "/dev/loop9              squashfs   55M   55M     0 100% /var/lib/snapd/snap/core18/1754\r\n",
      "/dev/loop10             squashfs   28M   28M     0 100% /var/lib/snapd/snap/snapd/7264\r\n",
      "/dev/loop11             squashfs   83M   83M     0 100% /var/lib/snapd/snap/zotero-snap/14\r\n",
      "/dev/loop12             squashfs   55M   55M     0 100% /var/lib/snapd/snap/gtk-common-themes/1502\r\n",
      "/dev/loop13             squashfs  128K  128K     0 100% /var/lib/snapd/snap/acrordrdc/8\r\n",
      "/dev/mapper/fedora-home ext4      411G  376G   14G  97% /home\r\n",
      "tmpfs                   tmpfs     1.6G   12M  1.6G   1% /run/user/1000\r\n"
     ]
    }
   ],
   "source": [
    "!df -hT"
   ]
  },
  {
   "cell_type": "markdown",
   "metadata": {
    "slideshow": {
     "slide_type": "slide"
    }
   },
   "source": [
    "## File system types\n",
    "\n",
    "There are different types of file systems, such as:\n",
    "* tmpfs\n",
    "* ext4, vfat\n",
    "* squashfs\n",
    "* nfs\n",
    "\n",
    "OK, this is not _really_ relevant to containers but I thought you might be interested :)"
   ]
  },
  {
   "cell_type": "markdown",
   "metadata": {
    "slideshow": {
     "slide_type": "fragment"
    }
   },
   "source": [
    "Some directories in the file system are particularly important:\n",
    "* /bin: contains many useful programs such as `ls`, `cd`, etc\n",
    "* /etc: contains configuration files\n",
    "* /proc: contains information about processes, mounts, etc"
   ]
  },
  {
   "cell_type": "markdown",
   "metadata": {
    "slideshow": {
     "slide_type": "slide"
    }
   },
   "source": [
    "## chroot: changing the root file system\n",
    "\n",
    "chroot is a system call to change the root of the current file system from `/` to a custom directory. It gives the illusion that a complete new file hierarchy was deployed, in isolation from the initial environment."
   ]
  },
  {
   "cell_type": "code",
   "execution_count": 12,
   "metadata": {
    "slideshow": {
     "slide_type": "fragment"
    }
   },
   "outputs": [
    {
     "name": "stdout",
     "output_type": "stream",
     "text": [
      "--2020-05-24 20:34:56--  http://bit.ly/fish-container\n",
      "Resolving bit.ly (bit.ly)... 67.199.248.10, 67.199.248.11\n",
      "Connecting to bit.ly (bit.ly)|67.199.248.10|:80... connected.\n",
      "HTTP request sent, awaiting response... 301 Moved Permanently\n",
      "Location: https://gist.github.com/jvns/1e8b2dcc2c9afac04acc4701112e3512/raw/5ef7f88cd089a70605b301cdd43f388d728f6817/fish.tar [following]\n",
      "--2020-05-24 20:34:56--  https://gist.github.com/jvns/1e8b2dcc2c9afac04acc4701112e3512/raw/5ef7f88cd089a70605b301cdd43f388d728f6817/fish.tar\n",
      "Resolving gist.github.com (gist.github.com)... 140.82.112.4\n",
      "Connecting to gist.github.com (gist.github.com)|140.82.112.4|:443... connected.\n",
      "HTTP request sent, awaiting response... 301 Moved Permanently\n",
      "Location: https://gist.githubusercontent.com/jvns/1e8b2dcc2c9afac04acc4701112e3512/raw/5ef7f88cd089a70605b301cdd43f388d728f6817/fish.tar [following]\n",
      "--2020-05-24 20:34:56--  https://gist.githubusercontent.com/jvns/1e8b2dcc2c9afac04acc4701112e3512/raw/5ef7f88cd089a70605b301cdd43f388d728f6817/fish.tar\n",
      "Resolving gist.githubusercontent.com (gist.githubusercontent.com)... 199.232.36.133\n",
      "Connecting to gist.githubusercontent.com (gist.githubusercontent.com)|199.232.36.133|:443... connected.\n",
      "HTTP request sent, awaiting response... 200 OK\n",
      "Length: 16999936 (16M) [application/octet-stream]\n",
      "Saving to: ‘fish.tar’\n",
      "\n",
      "fish.tar            100%[===================>]  16.21M  2.30MB/s    in 6.8s    \n",
      "\n",
      "2020-05-24 20:35:03 (2.40 MB/s) - ‘fish.tar’ saved [16999936/16999936]\n",
      "\n"
     ]
    }
   ],
   "source": [
    "# chroot illustration\n",
    "!wget bit.ly/fish-container -O fish.tar # download a tar archive file containing a full directory hierarchy\n",
    "!mkdir -p container-root && (cd container-root && tar xf ../fish.tar) # unextract archive in directory container-root\n"
   ]
  },
  {
   "cell_type": "code",
   "execution_count": null,
   "metadata": {
    "slideshow": {
     "slide_type": "fragment"
    }
   },
   "outputs": [
    {
     "name": "stdout",
     "output_type": "stream",
     "text": [
      "[sudo] password for glatard: "
     ]
    }
   ],
   "source": [
    "!sudo chroot $PWD/container-root /bin/sh\n"
   ]
  },
  {
   "cell_type": "markdown",
   "metadata": {
    "slideshow": {
     "slide_type": "fragment"
    }
   },
   "source": [
    "It looks like we're running on a different computer! Changing the root directory is a key concept of containers. "
   ]
  },
  {
   "cell_type": "markdown",
   "metadata": {
    "slideshow": {
     "slide_type": "slide"
    }
   },
   "source": [
    "# __mocker v0.2__: isolating processes\n",
    "\n",
    "There are in fact many indices showing that the \"chrooted\" environment is still running on the \"host\" computer. To start with, we can still see and interact with other programs, or _processes_ on the host.\n",
    "\n",
    "## Processes\n",
    "A process is a running program. It has a number (ID) and is often associated with a command. Current processes can be listed with command `ps`:"
   ]
  },
  {
   "cell_type": "code",
   "execution_count": 4,
   "metadata": {
    "slideshow": {
     "slide_type": "fragment"
    }
   },
   "outputs": [
    {
     "name": "stdout",
     "output_type": "stream",
     "text": [
      "USER       PID %CPU %MEM    VSZ   RSS TTY      STAT START   TIME COMMAND\r\n",
      "root         1  0.0  0.0 170640 13168 ?        Ss   May23   0:22 /usr/lib/system\r\n",
      "root         2  0.0  0.0      0     0 ?        S    May23   0:00 [kthreadd]\r\n",
      "root         3  0.0  0.0      0     0 ?        I<   May23   0:00 [rcu_gp]\r\n",
      "root         4  0.0  0.0      0     0 ?        I<   May23   0:00 [rcu_par_gp]\r\n",
      "root         6  0.0  0.0      0     0 ?        I<   May23   0:00 [kworker/0:0H-e\r\n",
      "root         9  0.0  0.0      0     0 ?        I<   May23   0:00 [mm_percpu_wq]\r\n",
      "root        10  0.0  0.0      0     0 ?        S    May23   0:05 [ksoftirqd/0]\r\n",
      "root        11  0.0  0.0      0     0 ?        I    May23   1:30 [rcu_sched]\r\n",
      "root        12  0.0  0.0      0     0 ?        S    May23   0:00 [migration/0]\r\n",
      "root        13  0.0  0.0      0     0 ?        S    May23   0:00 [cpuhp/0]\r\n",
      "root        14  0.0  0.0      0     0 ?        S    May23   0:00 [cpuhp/1]\r\n",
      "root        15  0.0  0.0      0     0 ?        S    May23   0:00 [migration/1]\r\n",
      "root        16  0.0  0.0      0     0 ?        S    May23   0:04 [ksoftirqd/1]\r\n",
      "root        18  0.0  0.0      0     0 ?        I<   May23   0:00 [kworker/1:0H-e\r\n",
      "root        19  0.0  0.0      0     0 ?        S    May23   0:00 [cpuhp/2]\r\n",
      "root        20  0.0  0.0      0     0 ?        S    May23   0:00 [migration/2]\r\n",
      "root        21  0.0  0.0      0     0 ?        S    May23   0:08 [ksoftirqd/2]\r\n",
      "root        23  0.0  0.0      0     0 ?        I<   May23   0:00 [kworker/2:0H-k\r\n",
      "root        24  0.0  0.0      0     0 ?        S    May23   0:00 [cpuhp/3]\r\n",
      "root        25  0.0  0.0      0     0 ?        S    May23   0:00 [migration/3]\r\n",
      "root        26  0.0  0.0      0     0 ?        S    May23   0:04 [ksoftirqd/3]\r\n",
      "root        28  0.0  0.0      0     0 ?        I<   May23   0:00 [kworker/3:0H-e\r\n",
      "root        29  0.0  0.0      0     0 ?        S    May23   0:00 [kdevtmpfs]\r\n",
      "root        30  0.0  0.0      0     0 ?        I<   May23   0:00 [netns]\r\n",
      "root        31  0.0  0.0      0     0 ?        S    May23   0:00 [rcu_tasks_kthr\r\n",
      "root        32  0.0  0.0      0     0 ?        S    May23   0:00 [kauditd]\r\n",
      "root        35  0.0  0.0      0     0 ?        S    May23   0:00 [oom_reaper]\r\n",
      "root        36  0.0  0.0      0     0 ?        I<   May23   0:00 [writeback]\r\n",
      "root        37  0.0  0.0      0     0 ?        S    May23   0:01 [kcompactd0]\r\n",
      "root        38  0.0  0.0      0     0 ?        SN   May23   0:00 [ksmd]\r\n",
      "root        39  0.0  0.0      0     0 ?        SN   May23   0:00 [khugepaged]\r\n",
      "root        66  0.0  0.0      0     0 ?        I<   May23   0:00 [cryptd]\r\n",
      "root       147  0.0  0.0      0     0 ?        I<   May23   0:00 [kintegrityd]\r\n",
      "root       148  0.0  0.0      0     0 ?        I<   May23   0:00 [kblockd]\r\n",
      "root       149  0.0  0.0      0     0 ?        I<   May23   0:00 [blkcg_punt_bio\r\n",
      "root       150  0.0  0.0      0     0 ?        I<   May23   0:00 [tpm_dev_wq]\r\n",
      "root       151  0.0  0.0      0     0 ?        I<   May23   0:00 [ata_sff]\r\n",
      "root       152  0.0  0.0      0     0 ?        I<   May23   0:00 [md]\r\n",
      "root       153  0.0  0.0      0     0 ?        I<   May23   0:00 [edac-poller]\r\n",
      "root       154  0.0  0.0      0     0 ?        I<   May23   0:00 [devfreq_wq]\r\n",
      "root       156  0.0  0.0      0     0 ?        S    May23   0:00 [watchdogd]\r\n",
      "root       158  0.0  0.0      0     0 ?        S    May23   0:18 [kswapd0]\r\n",
      "root       161  0.0  0.0      0     0 ?        I<   May23   0:00 [kthrotld]\r\n",
      "root       162  0.0  0.0      0     0 ?        I<   May23   0:00 [acpi_thermal_p\r\n",
      "root       164  0.0  0.0      0     0 ?        S    May23   0:00 [scsi_eh_0]\r\n",
      "root       165  0.0  0.0      0     0 ?        I<   May23   0:00 [scsi_tmf_0]\r\n",
      "root       166  0.0  0.0      0     0 ?        S    May23   0:00 [scsi_eh_1]\r\n",
      "root       167  0.0  0.0      0     0 ?        I<   May23   0:00 [scsi_tmf_1]\r\n",
      "root       168  0.0  0.0      0     0 ?        S    May23   0:00 [scsi_eh_2]\r\n",
      "root       169  0.0  0.0      0     0 ?        I<   May23   0:00 [scsi_tmf_2]\r\n",
      "root       170  0.0  0.0      0     0 ?        S    May23   0:00 [scsi_eh_3]\r\n",
      "root       171  0.0  0.0      0     0 ?        I<   May23   0:00 [scsi_tmf_3]\r\n",
      "root       172  0.0  0.0      0     0 ?        S    May23   0:00 [scsi_eh_4]\r\n",
      "root       173  0.0  0.0      0     0 ?        I<   May23   0:00 [scsi_tmf_4]\r\n",
      "root       174  0.0  0.0      0     0 ?        S    May23   0:00 [scsi_eh_5]\r\n",
      "root       175  0.0  0.0      0     0 ?        I<   May23   0:00 [scsi_tmf_5]\r\n",
      "root       176  0.0  0.0      0     0 ?        S    May23   0:00 [scsi_eh_6]\r\n",
      "root       177  0.0  0.0      0     0 ?        I<   May23   0:00 [scsi_tmf_6]\r\n",
      "root       178  0.0  0.0      0     0 ?        S    May23   0:00 [scsi_eh_7]\r\n",
      "root       179  0.0  0.0      0     0 ?        I<   May23   0:00 [scsi_tmf_7]\r\n",
      "root       182  0.0  0.0      0     0 ?        I<   May23   0:00 [dm_bufio_cache\r\n",
      "root       183  0.0  0.0      0     0 ?        I<   May23   0:00 [ipv6_addrconf]\r\n",
      "root       190  0.0  0.0      0     0 ?        I<   May23   0:00 [kstrp]\r\n",
      "root       463  0.0  0.0      0     0 ?        S    May23   0:13 [irq/51-DLL0704\r\n",
      "root       468  0.0  0.0      0     0 ?        I<   May23   0:00 [nvme-wq]\r\n",
      "root       470  0.0  0.0      0     0 ?        I<   May23   0:00 [nvme-reset-wq]\r\n",
      "root       471  0.0  0.0      0     0 ?        I<   May23   0:00 [nvme-delete-wq\r\n",
      "root       479  0.0  0.0      0     0 ?        I<   May23   0:02 [kworker/1:1H-k\r\n",
      "root       489  0.0  0.0      0     0 ?        I<   May23   0:02 [kworker/3:1H-e\r\n",
      "root       532  0.0  0.0      0     0 ?        I<   May23   0:00 [kdmflush]\r\n",
      "root       537  0.0  0.0      0     0 ?        I<   May23   0:02 [kworker/0:1H-e\r\n",
      "root       540  0.0  0.0      0     0 ?        I<   May23   0:00 [kdmflush]\r\n",
      "root       555  0.0  0.0      0     0 ?        S    May23   0:01 [jbd2/dm-0-8]\r\n",
      "root       556  0.0  0.0      0     0 ?        I<   May23   0:00 [ext4-rsv-conve\r\n",
      "root       643  0.0  0.1  78144 27312 ?        Ss   May23   0:04 /usr/lib/system\r\n",
      "root       654  0.0  0.0      0     0 ?        I<   May23   0:02 [kworker/2:1H-e\r\n",
      "root       674  0.0  0.0  31748  8872 ?        Ss   May23   0:01 /usr/lib/system\r\n",
      "root       764  0.0  0.0      0     0 ?        I<   May23   0:00 [cfg80211]\r\n",
      "root       799  0.0  0.0      0     0 ?        S    May23   1:38 [irq/136-iwlwif\r\n",
      "root       840  0.0  0.0      0     0 ?        S<   May23   0:00 [loop0]\r\n",
      "root       854  0.0  0.0      0     0 ?        S<   May23   0:00 [loop1]\r\n",
      "root       860  0.0  0.0      0     0 ?        S<   May23   0:00 [loop2]\r\n",
      "root       866  0.0  0.0      0     0 ?        S<   May23   0:00 [loop3]\r\n",
      "root       867  0.0  0.0      0     0 ?        S    May23   0:00 [jbd2/nvme0n1p2\r\n",
      "root       868  0.0  0.0      0     0 ?        I<   May23   0:00 [ext4-rsv-conve\r\n",
      "root       872  0.0  0.0      0     0 ?        S<   May23   0:00 [loop4]\r\n",
      "root       874  0.0  0.0      0     0 ?        S<   May23   0:00 [loop5]\r\n",
      "root       880  0.0  0.0      0     0 ?        S<   May23   0:00 [loop6]\r\n",
      "root       882  0.0  0.0      0     0 ?        S<   May23   0:00 [loop7]\r\n",
      "root       890  0.0  0.0      0     0 ?        S<   May23   0:00 [loop8]\r\n",
      "root       891  0.0  0.0      0     0 ?        S<   May23   0:00 [loop9]\r\n",
      "root       893  0.0  0.0      0     0 ?        S<   May23   0:00 [loop10]\r\n",
      "root       896  0.0  0.0      0     0 ?        S<   May23   0:00 [loop11]\r\n",
      "root       901  0.0  0.0      0     0 ?        S<   May23   0:00 [loop12]\r\n",
      "root       903  0.0  0.0      0     0 ?        S<   May23   0:00 [loop13]\r\n",
      "root       911  0.0  0.0      0     0 ?        I<   May23   0:00 [kdmflush]\r\n",
      "root       921  0.0  0.0      0     0 ?        S    May23   0:04 [jbd2/dm-2-8]\r\n",
      "root       922  0.0  0.0      0     0 ?        I<   May23   0:00 [ext4-rsv-conve\r\n",
      "root       930  0.0  0.0  16764  1740 ?        S<sl May23   0:00 /sbin/auditd\r\n",
      "root       948  0.0  0.0      0     0 ?        I<   May23   0:00 [rpciod]\r\n",
      "root       949  0.0  0.0      0     0 ?        I<   May23   0:00 [xprtiod]\r\n",
      "root       951  0.0  0.0  18408  8092 ?        Ss   May23   0:02 /usr/lib/system\r\n",
      "root       952  0.0  0.0 393564 12940 ?        Ssl  May23   0:00 /usr/libexec/ud\r\n",
      "root       953  0.0  0.0 445792  7324 ?        Ssl  May23   0:00 /usr/libexec/ac\r\n",
      "rtkit      954  0.0  0.0 152932  3068 ?        SNsl May23   0:01 /usr/libexec/rt\r\n",
      "avahi      955  0.0  0.0   6512  4028 ?        Ss   May23   0:01 avahi-daemon: r\r\n",
      "root       956  0.0  0.0   2544  1992 ?        Ss   May23   0:00 /usr/sbin/mcelo\r\n",
      "root       957  0.0  0.0 313420  9492 ?        Ssl  May23   0:00 /usr/sbin/Modem\r\n",
      "root       961  0.0  0.2 333344 34960 ?        Ssl  May23   0:01 /usr/bin/python\r\n",
      "root       964  0.0  0.0 312072  7344 ?        Ssl  May23   0:46 /sbin/rngd -f\r\n",
      "root       967  0.0  0.0  17956  6312 ?        Ss   May23   0:00 /usr/lib/system\r\n",
      "root       969  0.0  0.0   8340  4344 ?        Ss   May23   0:00 /usr/libexec/bl\r\n",
      "root       983  0.0  0.0 263584  3036 ?        Ssl  May23   0:00 /usr/sbin/gsspr\r\n",
      "dbus      1002  0.0  0.0 268824  4036 ?        Ss   May23   0:00 /usr/bin/dbus-b\r\n",
      "root      1005  0.0  0.0   4936  1420 ?        SNs  May23   0:00 /usr/sbin/alsac\r\n",
      "chrony    1007  0.0  0.0  78796  2696 ?        S    May23   0:00 /usr/sbin/chron\r\n",
      "root      1008  0.0  0.0 465540 14700 ?        Ssl  May23   0:00 /usr/sbin/abrtd\r\n",
      "dbus      1023  0.0  0.0   8620  6284 ?        S    May23   0:10 dbus-broker --l\r\n",
      "avahi     1043  0.0  0.0   6384   336 ?        S    May23   0:00 avahi-daemon: c\r\n",
      "root      1054  0.0  0.1 1096252 17460 ?       Ss   May23   0:00 /usr/bin/abrt-d\r\n",
      "root      1055  0.0  0.0 1103312 16008 ?       Ss   May23   0:00 /usr/bin/abrt-d\r\n",
      "polkitd   1070  0.0  0.1 1659936 24760 ?       Ssl  May23   0:06 /usr/lib/polkit\r\n",
      "root      1103  0.0  0.1 687864 20824 ?        Ssl  May23   0:26 /usr/sbin/Netwo\r\n",
      "root      1181  0.0  0.1 1737816 28696 ?       Ssl  May23   0:00 /usr/sbin/libvi\r\n",
      "root      1186  0.0  0.0 239464  9964 ?        Ss   May23   0:02 /usr/sbin/cupsd\r\n",
      "root      1231  0.0  0.0   3700  2216 ?        Ss   May23   0:00 /usr/sbin/atd -\r\n",
      "root      1239  0.0  0.0 446312  7412 ?        Ssl  May23   0:00 /usr/sbin/gdm\r\n",
      "root      1247  0.0  0.0 217256  2956 ?        Ss   May23   0:00 /usr/sbin/crond\r\n",
      "colord    1282  0.0  0.0 450880 11648 ?        Ssl  May23   0:00 /usr/libexec/co\r\n",
      "root      1562  0.0  0.0  12432  8280 ?        Ss   May23   0:01 /usr/sbin/wpa_s\r\n",
      "glatard   1687  1.7  1.8 3293404 303336 tty2   Sl+  15:47   2:21 /usr/lib64/fire\r\n",
      "glatard   1725  2.9 11.9 4903000 1921464 tty2  Sl+  15:47   3:53 /usr/lib64/fire\r\n",
      "dnsmasq   1817  0.0  0.0   8428  1836 ?        S    May23   0:00 /usr/sbin/dnsma\r\n",
      "root      1818  0.0  0.0   8400   348 ?        S    May23   0:00 /usr/sbin/dnsma\r\n",
      "glatard   2226  0.4  0.7 863100 114576 tty2    Sl+  16:00   0:32 /usr/share/code\r\n",
      "glatard   2230  0.0  0.1 383620 31984 tty2     S+   16:00   0:00 /usr/share/code\r\n",
      "glatard   2254  0.6  0.4 486356 73508 tty2     Sl+  16:00   0:48 /usr/share/code\r\n",
      "root      2266  0.0  0.0 459428  9304 ?        Ssl  May23   0:08 /usr/libexec/up\r\n",
      "glatard   2268  0.0  0.3 446860 56924 tty2     Sl+  16:00   0:00 /usr/share/code\r\n",
      "glatard   2277  1.5  1.4 1009028 229912 tty2   SLl+ 16:00   1:56 /usr/share/code\r\n",
      "glatard   2352  0.2  0.8 571464 142440 tty2    Sl+  16:00   0:17 /usr/share/code\r\n",
      "glatard   2353  0.0  0.0 219748  6952 pts/0    Ss+  16:00   0:00 /bin/bash\r\n",
      "glatard   2417  0.0  0.6 780488 105992 tty2    Sl+  16:00   0:06 /usr/share/code\r\n",
      "glatard   2448  0.2  0.7 492220 121232 tty2    Sl+  16:00   0:21 /usr/share/code\r\n",
      "root      2540  0.0  0.0 526488 12064 ?        Sl   May23   0:00 gdm-session-wor\r\n",
      "glatard   2543  0.0  0.0 594728  8264 ?        Sl   16:01   0:00 /usr/libexec/gv\r\n",
      "glatard   2546  0.0  0.0  20492 10192 ?        Ss   May23   0:00 /usr/lib/system\r\n",
      "glatard   2549  0.0  0.0  25072  3544 ?        S    May23   0:00 (sd-pam)\r\n",
      "glatard   2562  0.1  0.0 2615764 12516 ?       S<sl May23   2:00 /usr/bin/pulsea\r\n",
      "glatard   2567  0.0  0.0 447776  6588 ?        SLl  May23   0:03 /usr/bin/gnome-\r\n",
      "glatard   2570  0.0  0.0 521932  8148 ?        Sl   16:01   0:00 /usr/libexec/gv\r\n",
      "glatard   2579  0.0  0.0 268596  3696 ?        Ss   May23   0:00 /usr/bin/dbus-b\r\n",
      "glatard   2580  0.0  0.0   7836  5264 ?        S    May23   0:02 dbus-broker --l\r\n",
      "root      2582  0.0  0.0      0     0 ?        S<   May23   0:00 [krfcommd]\r\n",
      "glatard   2585  0.0  0.0 368616  5280 tty2     Ssl+ May23   0:00 /usr/libexec/gd\r\n",
      "glatard   2588  0.0  0.0 688776 13844 tty2     Sl+  May23   0:00 /usr/libexec/gn\r\n",
      "glatard   2660  3.7  3.0 3324756 491404 tty2   Sl+  May23  72:40 /usr/bin/gnome-\r\n",
      "glatard   2700  0.0  0.0 446672  7104 ?        Ssl  May23   0:00 /usr/libexec/gv\r\n",
      "glatard   2707  0.0  0.0 378144  6068 ?        Sl   May23   0:00 /usr/libexec/gv\r\n",
      "glatard   2723  7.4  1.4 701008 225540 tty2    Sl+  May23 144:19 /usr/bin/Xwayla\r\n",
      "glatard   2752  0.0  0.0 305132  6192 ?        Ssl  May23   0:00 /usr/libexec/at\r\n",
      "glatard   2759  0.0  0.0 268332  2544 ?        S    May23   0:00 /usr/bin/dbus-b\r\n",
      "glatard   2760  0.0  0.0   5184  2908 ?        S    May23   0:00 dbus-broker --l\r\n",
      "glatard   2765  0.0  0.0 160700  6996 ?        Ssl  May23   0:07 /usr/libexec/at\r\n",
      "glatard   2810  0.5  0.4 613056 73040 ?        Ssl  16:05   0:36 /usr/libexec/gn\r\n",
      "glatard   2813  0.1  0.0 592720  8268 tty2     Sl   May23   2:27 ibus-daemon --x\r\n",
      "glatard   2817  0.0  0.0 443440  5908 tty2     Sl   May23   0:00 /usr/libexec/ib\r\n",
      "glatard   2818  0.0  0.1 548388 24768 tty2     Sl   May23   0:26 /usr/libexec/ib\r\n",
      "glatard   2820  0.0  0.1 491000 27356 tty2     Sl   May23   0:00 /usr/libexec/ib\r\n",
      "glatard   2823  0.0  0.0 443388  6020 ?        Ssl  May23   0:00 /usr/libexec/ib\r\n",
      "glatard   2826  0.0  0.0 219952  7204 pts/2    Ss   16:05   0:00 bash\r\n",
      "glatard   2837  0.0  0.0 442572  4880 ?        Ssl  May23   0:00 /usr/libexec/xd\r\n",
      "glatard   2841  0.0  0.2 631516 44572 ?        Ssl  May23   0:01 /usr/libexec/gn\r\n",
      "glatard   2845  0.0  0.3 1379320 51148 ?       Ssl  May23   0:00 /usr/libexec/ev\r\n",
      "glatard   2855  0.0  0.0 156548  5900 ?        Ssl  May23   0:00 /usr/libexec/dc\r\n",
      "glatard   2863  0.0  0.0 451496  9408 ?        Ssl  May23   0:00 /usr/libexec/gv\r\n",
      "glatard   2867  0.0  0.0 442676  5836 ?        Ssl  May23   0:00 /usr/libexec/gv\r\n",
      "glatard   2871  0.0  0.0 442744  5500 ?        Ssl  May23   0:00 /usr/libexec/gv\r\n",
      "glatard   2874  0.0  0.2 748884 43576 ?        SLsl May23   0:01 /usr/libexec/go\r\n",
      "glatard   2881  0.0  0.0 450240  7928 ?        Ssl  May23   0:03 /usr/libexec/go\r\n",
      "glatard   2886  0.0  0.0 377568 11988 ?        Ssl  May23   0:01 /usr/libexec/gv\r\n",
      "glatard   2887  0.0  0.0 523636  7912 ?        Ssl  May23   0:00 /usr/libexec/gv\r\n",
      "glatard   2896  0.0  0.0 445064  5628 ?        Ssl  May23   0:00 /usr/libexec/gv\r\n",
      "glatard   2903  0.0  0.0 598092 10380 tty2     Sl+  May23   0:13 /usr/libexec/gs\r\n",
      "glatard   2904  0.0  0.1 544092 20452 tty2     Sl+  May23   0:00 /usr/libexec/gs\r\n",
      "glatard   2906  0.0  0.1 810468 23840 tty2     Sl+  May23   0:02 /usr/libexec/gs\r\n",
      "glatard   2908  0.0  0.0 444248  5796 tty2     Sl+  May23   0:00 /usr/libexec/gs\r\n",
      "glatard   2910  0.0  0.0 452044  7528 tty2     Sl+  May23   0:00 /usr/libexec/gs\r\n",
      "glatard   2912  0.0  0.1 1221172 24204 tty2    Sl+  May23   0:01 /usr/libexec/gs\r\n",
      "glatard   2918  0.0  0.0 458352 11716 tty2     Sl+  May23   0:00 /usr/libexec/gs\r\n",
      "glatard   2921  0.0  0.1 396352 20312 tty2     Sl+  May23   0:00 /usr/libexec/gs\r\n",
      "glatard   2922  0.0  0.1 544648 20500 tty2     Sl+  May23   0:00 /usr/libexec/gs\r\n",
      "glatard   2923  0.0  0.0 444244  5668 tty2     Sl+  May23   0:00 /usr/libexec/gs\r\n",
      "glatard   2926  0.0  0.0 591636  5836 tty2     Sl+  May23   0:00 /usr/libexec/gs\r\n",
      "glatard   2931  0.0  0.1 703904 23380 tty2     Sl+  May23   0:01 /usr/libexec/gs\r\n",
      "glatard   2938  0.0  0.1 544580 21904 tty2     Sl+  May23   0:00 /usr/libexec/gs\r\n",
      "glatard   2945  0.0  0.0 443792  5808 tty2     Sl+  May23   0:00 /usr/libexec/gs\r\n",
      "glatard   2947  0.0  0.1 481664 21108 tty2     Sl+  May23   0:00 /usr/libexec/gs\r\n",
      "glatard   2951  0.0  0.0 600020 11444 tty2     Sl+  May23   0:14 /usr/libexec/gs\r\n",
      "glatard   2953  0.0  0.0 519464  7148 tty2     Sl+  May23   0:06 /usr/libexec/gs\r\n",
      "glatard   3019  0.0  0.0 549196 14440 tty2     Sl+  May23   0:00 /usr/libexec/gs\r\n",
      "glatard   3039  0.0  0.6 2115876 105256 ?      Ssl  May23   0:13 /usr/libexec/ev\r\n",
      "glatard   3058  0.0  0.0 369720  6248 tty2     Sl   May23   0:41 /usr/libexec/ib\r\n",
      "glatard   3137  0.0  0.1 484324 19352 ?        Ssl  May23   0:00 /usr/bin/abrt-a\r\n",
      "glatard   3139  0.0  0.3 1069468 52552 tty2    Sl+  May23   0:00 /usr/libexec/ev\r\n",
      "glatard   3145  0.0  2.3 1357304 372760 tty2   Sl+  May23   1:27 /usr/bin/gnome-\r\n",
      "glatard   3150  0.1  1.2 993628 199308 tty2    SNl+ May23   3:40 /usr/libexec/tr\r\n",
      "glatard   3154  0.0  0.0 231792  5812 tty2     Sl+  May23   0:00 /usr/libexec/gs\r\n",
      "root      3179  0.0  0.0 466104 15220 ?        Ssl  May23   0:01 /usr/sbin/abrt-\r\n",
      "glatard   3286  0.0  0.2 758280 37856 ?        Ssl  May23   0:05 /usr/bin/kwalle\r\n",
      "root      3409  0.0  0.1 273980 18984 ?        Ss   May23   0:00 /usr/bin/python\r\n",
      "glatard   3427  0.0  0.0 242212 16080 ?        S    May23   0:00 python3 -Es /us\r\n",
      "root      3435  0.0  0.1 1382952 24188 ?       Ssl  May23   0:13 /usr/libexec/sn\r\n",
      "glatard   3466  0.0  0.2 1071412 42236 ?       Ssl  May23   0:00 /usr/libexec/ev\r\n",
      "root      3523  0.0  0.2 646624 40592 ?        Ssl  May23   0:02 /usr/libexec/fw\r\n",
      "root      3538  0.0  0.0 445476  7080 ?        Ssl  May23   0:00 /usr/libexec/bo\r\n",
      "glatard   3926  0.0  0.3 456412 63276 pts/2    Sl+  16:20   0:03 /home/glatard/v\r\n",
      "glatard   3977  0.0  0.2 749396 46872 ?        Ssl  16:20   0:01 /home/glatard/v\r\n",
      "glatard   4041  0.0  0.0 219876  7272 pts/3    Ss   16:23   0:00 bash\r\n",
      "glatard   4515  0.0  0.1 642432 29008 ?        Ssl  May23   0:25 /usr/libexec/tr\r\n",
      "glatard   4598  0.0  0.0 457612  9516 ?        Sl   May23   0:00 /usr/libexec/gv\r\n",
      "glatard   4603  6.9  4.9 5050196 791648 tty2   Sl+  May23 134:15 /usr/lib64/fire\r\n",
      "glatard   4684  0.3  1.5 871596 256092 pts/3   Sl+  16:32   0:16 evince how-cont\r\n",
      "glatard   4693  0.0  0.0 155840  4800 ?        Ssl  16:32   0:00 /usr/libexec/ev\r\n",
      "glatard   4705  1.9  3.3 3521480 538664 tty2   Sl+  May23  37:09 /usr/lib64/fire\r\n",
      "glatard   4722  0.0  0.0 219872  7336 pts/4    Ss+  16:32   0:00 bash\r\n",
      "glatard   4754  0.9  1.6 9285420 264632 tty2   Sl+  May23  17:31 /usr/lib64/fire\r\n",
      "glatard   5013  0.0  0.0 364448  2392 ?        Ss   May23   0:03 gpg-agent --hom\r\n",
      "glatard   5599  0.1  0.2 1010132 33104 tty2    Sl+  16:45   0:05 /home/glatard/.\r\n",
      "glatard   5629  0.0  0.1 391364 16688 tty2     Sl+  16:45   0:01 /home/glatard/.\r\n",
      "root      7316  0.0  0.0      0     0 ?        I    17:17   0:01 [kworker/u8:3-e\r\n",
      "root      7370  0.1  0.0      0     0 ?        I<   17:18   0:02 [kworker/u9:2-i\r\n",
      "root      7602  0.0  0.0      0     0 ?        I    17:24   0:01 [kworker/u8:1-e\r\n",
      "root      8338  0.0  0.0      0     0 ?        I    17:37   0:00 [kworker/2:0-cg\r\n",
      "root      8417  0.0  0.0      0     0 ?        I    17:40   0:00 [kworker/3:0-ev\r\n",
      "root      8427  0.0  0.0      0     0 ?        I<   17:40   0:00 [kworker/u9:1-r\r\n",
      "root      8583  0.0  0.0      0     0 ?        I    17:44   0:00 [kworker/1:0-ev\r\n",
      "root      8796  0.0  0.0      0     0 ?        I    17:48   0:00 [kworker/u8:0-e\r\n",
      "root      8872  0.1  0.0      0     0 ?        I    17:49   0:00 [kworker/3:1-ev\r\n",
      "root      8877  0.0  0.0      0     0 ?        I    17:49   0:00 [kworker/1:2-ev\r\n",
      "root      8884  0.4  0.0      0     0 ?        I    17:50   0:02 [kworker/0:0-ev\r\n",
      "root      8979  0.0  0.0      0     0 ?        I    17:52   0:00 [kworker/2:1-ev\r\n",
      "root      9025  0.0  0.0      0     0 ?        I    17:53   0:00 [kworker/0:3-ev\r\n",
      "root      9204  0.1  0.0      0     0 ?        I    17:57   0:00 [kworker/1:1-kd\r\n",
      "root      9258  0.0  0.0      0     0 ?        I<   17:57   0:00 [kworker/u9:0]\r\n",
      "glatard   9293  5.7  1.4 2799132 235784 tty2   Sl+  17:57   0:14 /usr/lib64/fire\r\n",
      "root      9339  0.0  0.0      0     0 ?        I    17:57   0:00 [kworker/2:2-cg\r\n",
      "root      9468  0.0  0.0      0     0 ?        I    18:00   0:00 [kworker/2:3-ev\r\n",
      "root      9492  0.0  0.0      0     0 ?        I    18:00   0:00 [kworker/u8:2-e\r\n",
      "glatard   9507  0.1  0.2 770712 48216 tty2     Sl+  18:00   0:00 /opt/Rambox/ram\r\n",
      "root      9538  0.0  0.0      0     0 ?        I    18:01   0:00 [kworker/3:2-ev\r\n",
      "glatard   9542  0.0  0.0 218540  3444 pts/5    Rs+  18:01   0:00 ps aux\r\n",
      "glatard  12468  1.2  4.9 3684344 791688 tty2   Sl+  May23  20:30 /usr/lib64/fire\r\n",
      "glatard  12517  0.1  1.7 3047764 289856 tty2   Sl+  May23   2:31 /usr/lib64/fire\r\n",
      "glatard  12567  0.3  2.5 3303312 414316 tty2   Sl+  May23   5:36 /usr/lib64/fire\r\n",
      "glatard  12599  0.4  2.4 3127412 389816 tty2   Sl+  May23   7:24 /usr/lib64/fire\r\n",
      "glatard  12788  0.5  2.1 2903724 339316 tty2   Rl+  May23  10:10 /usr/lib64/fire\r\n",
      "glatard  12831  0.0  0.2 750212 46996 ?        Ssl  May23   0:06 /home/glatard/v\r\n",
      "glatard  19030  0.0  1.4 1883436 228728 ?      Ssl  May23   0:03 /usr/bin/gnome-\r\n",
      "glatard  19050  0.0  0.0 520684  6792 ?        Sl   May23   0:00 /usr/libexec/gv\r\n",
      "glatard  19112  0.0  0.0  42844  4396 ?        Ss   May23   0:00 /usr/libexec/bl\r\n",
      "root     20822  0.0  0.1 1187112 30024 ?       Ssl  May23   0:30 /usr/bin/contai\r\n",
      "root     20823  0.0  0.4 1160244 64748 ?       Ssl  May23   0:22 /usr/bin/docker\r\n",
      "glatard  22833  0.7  0.2 360916 39696 tty2     Sl+  00:48   7:40 /usr/lib64/fire\r\n",
      "root     23232  0.0  0.0      0     0 ?        S    09:35   0:00 [irq/128-mei_me\r\n",
      "root     23335  0.0  0.0  15244  8576 ?        S    09:35   0:00 /sbin/dhclient \r\n",
      "glatard  23422  1.1  3.3 3610048 538816 tty2   Sl+  09:36   5:50 /usr/lib64/thun\r\n",
      "glatard  23521  1.2  1.0 1035344 173952 tty2   Sl+  09:36   6:26 /opt/Rambox/ram\r\n",
      "glatard  23525  0.0  0.1 397452 29580 tty2     S+   09:36   0:00 /opt/Rambox/ram\r\n",
      "glatard  23527  0.0  0.0 397452 10852 tty2     S+   09:36   0:00 /opt/Rambox/ram\r\n",
      "glatard  23554  1.0  2.0 812312 322220 tty2    Sl+  09:36   5:19 /opt/Rambox/ram\r\n",
      "glatard  23557  0.1  0.3 490644 64144 tty2     Sl+  09:36   0:49 /opt/Rambox/ram\r\n",
      "glatard  23560  0.8  1.3 878592 209724 tty2    Sl+  09:36   4:13 /opt/Rambox/ram\r\n",
      "glatard  23561  0.0  0.0 403868  9684 tty2     S+   09:36   0:00 /opt/Rambox/ram\r\n",
      "glatard  23598  2.7  2.7 1070436 444728 tty2   Sl+  09:36  14:00 /opt/Rambox/ram\r\n",
      "glatard  23600  0.1  1.0 827040 169564 tty2    Sl+  09:36   0:32 /opt/Rambox/ram\r\n",
      "glatard  23602  0.2  1.5 913312 247524 tty2    Sl+  09:36   1:15 /opt/Rambox/ram\r\n",
      "glatard  23613  0.1  1.0 841856 171036 tty2    Sl+  09:36   0:32 /opt/Rambox/ram\r\n",
      "glatard  23618  1.5  2.4 1041616 395600 tty2   Sl+  09:36   7:44 /opt/Rambox/ram\r\n",
      "glatard  23625  0.1  1.3 836688 217784 tty2    Sl+  09:36   0:48 /opt/Rambox/ram\r\n",
      "glatard  23646  0.1  1.3 889248 223700 tty2    Sl+  09:36   0:41 /opt/Rambox/ram\r\n",
      "glatard  23666  0.1  1.0 826080 164040 tty2    Sl+  09:36   0:31 /opt/Rambox/ram\r\n",
      "glatard  23675  0.1  1.0 832916 173152 tty2    Sl+  09:36   0:37 /opt/Rambox/ram\r\n",
      "glatard  23693  0.1  1.0 832764 166088 tty2    Sl+  09:36   0:31 /opt/Rambox/ram\r\n",
      "root     31728  0.0  0.0 378284 10232 ?        Sl   14:28   0:00 gdm-session-wor\r\n"
     ]
    }
   ],
   "source": [
    "!ps aux"
   ]
  },
  {
   "cell_type": "markdown",
   "metadata": {
    "slideshow": {
     "slide_type": "fragment"
    }
   },
   "source": [
    "`top` or `htop` are other useful commands to list proceses."
   ]
  },
  {
   "cell_type": "markdown",
   "metadata": {
    "slideshow": {
     "slide_type": "slide"
    }
   },
   "source": [
    "## Process trees\n",
    "\n",
    "All processes but one have a parent, the program from which the process was launched, and processes might create child processes. The process tree can be viewed using `pstree` or `htop -t`:"
   ]
  },
  {
   "cell_type": "code",
   "execution_count": 6,
   "metadata": {
    "slideshow": {
     "slide_type": "fragment"
    }
   },
   "outputs": [
    {
     "name": "stdout",
     "output_type": "stream",
     "text": [
      "systemd─┬─ModemManager───2*[{ModemManager}]\r\n",
      "        ├─NetworkManager─┬─dhclient\r\n",
      "        │                └─2*[{NetworkManager}]\r\n",
      "        ├─abrt-dbus───2*[{abrt-dbus}]\r\n",
      "        ├─2*[abrt-dump-journ]\r\n",
      "        ├─abrtd───2*[{abrtd}]\r\n",
      "        ├─accounts-daemon───2*[{accounts-daemon}]\r\n",
      "        ├─alsactl\r\n",
      "        ├─atd\r\n",
      "        ├─auditd───{auditd}\r\n",
      "        ├─avahi-daemon───avahi-daemon\r\n",
      "        ├─bluetoothd\r\n",
      "        ├─boltd───2*[{boltd}]\r\n",
      "        ├─chronyd\r\n",
      "        ├─colord───2*[{colord}]\r\n",
      "        ├─containerd───14*[{containerd}]\r\n",
      "        ├─crond\r\n",
      "        ├─cupsd\r\n",
      "        ├─dbus-broker-lau───dbus-broker\r\n",
      "        ├─dnsmasq───dnsmasq\r\n",
      "        ├─dockerd───12*[{dockerd}]\r\n",
      "        ├─firefox─┬─2*[Web Content───26*[{Web Content}]]\r\n",
      "        │         ├─2*[Web Content───25*[{Web Content}]]\r\n",
      "        │         ├─3*[Web Content───24*[{Web Content}]]\r\n",
      "        │         ├─Web Content───27*[{Web Content}]\r\n",
      "        │         ├─WebExtensions───25*[{WebExtensions}]\r\n",
      "        │         ├─file:// Content───24*[{file:// Content}]\r\n",
      "        │         └─64*[{firefox}]\r\n",
      "        ├─firewalld───{firewalld}\r\n",
      "        ├─fwupd───4*[{fwupd}]\r\n",
      "        ├─gdm─┬─gdm-session-wor─┬─gdm-wayland-ses─┬─gnome-session-b─┬─evolution+\r\n",
      "        │     │                 │                 │                 ├─gnome-she+\r\n",
      "        │     │                 │                 │                 ├─gnome-sof+\r\n",
      "        │     │                 │                 │                 ├─gsd-a11y-+\r\n",
      "        │     │                 │                 │                 ├─gsd-clipb+\r\n",
      "        │     │                 │                 │                 ├─gsd-color+++\r\n",
      "        │     │                 │                 │                 ├─gsd-datet+\r\n",
      "        │     │                 │                 │                 ├─gsd-disk-+\r\n",
      "        │     │                 │                 │                 ├─gsd-house+\r\n",
      "        │     │                 │                 │                 ├─gsd-keybo+\r\n",
      "        │     │                 │                 │                 ├─gsd-media+\r\n",
      "        │     │                 │                 │                 ├─gsd-mouse+++\r\n",
      "        │     │                 │                 │                 ├─gsd-power+++\r\n",
      "        │     │                 │                 │                 ├─gsd-print+\r\n",
      "        │     │                 │                 │                 ├─gsd-rfkil+\r\n",
      "        │     │                 │                 │                 ├─gsd-scree+\r\n",
      "        │     │                 │                 │                 ├─gsd-shari+\r\n",
      "        │     │                 │                 │                 ├─gsd-smart+\r\n",
      "        │     │                 │                 │                 ├─gsd-sound+++\r\n",
      "        │     │                 │                 │                 ├─gsd-wacom+++\r\n",
      "        │     │                 │                 │                 ├─gsd-xsett+\r\n",
      "        │     │                 │                 │                 ├─rambox─┬─+\r\n",
      "        │     │                 │                 │                 │        ├─+\r\n",
      "        │     │                 │                 │                 │        ├─+\r\n",
      "        │     │                 │                 │                 │        ├─+\r\n",
      "        │     │                 │                 │                 │        ├─+\r\n",
      "        │     │                 │                 │                 │        ├─+\r\n",
      "        │     │                 │                 │                 │        ├─+\r\n",
      "        │     │                 │                 │                 │        └─+\r\n",
      "        │     │                 │                 │                 ├─tracker-m+\r\n",
      "        │     │                 │                 │                 └─3*[{gnome+\r\n",
      "        │     │                 │                 └─2*[{gdm-wayland-ses}]\r\n",
      "        │     │                 └─2*[{gdm-session-wor}]\r\n",
      "        │     └─2*[{gdm}]\r\n",
      "        ├─gnome-keyring-d───3*[{gnome-keyring-d}]\r\n",
      "        ├─gsd-printer───2*[{gsd-printer}]\r\n",
      "        ├─gssproxy───5*[{gssproxy}]\r\n",
      "        ├─ibus-x11───3*[{ibus-x11}]\r\n",
      "        ├─libvirtd───16*[{libvirtd}]\r\n",
      "        ├─mcelog\r\n",
      "        ├─polkitd───7*[{polkitd}]\r\n",
      "        ├─2*[python3]\r\n",
      "        ├─rngd───4*[{rngd}]\r\n",
      "        ├─rtkit-daemon───2*[{rtkit-daemon}]\r\n",
      "        ├─skypeforlinux─┬─skypeforlinux───skypeforlinux\r\n",
      "        │               ├─skypeforlinux───6*[{skypeforlinux}]\r\n",
      "        │               ├─skypeforlinux───5*[{skypeforlinux}]\r\n",
      "        │               ├─skypeforlinux───38*[{skypeforlinux}]\r\n",
      "        │               ├─skypeforlinux───4*[{skypeforlinux}]\r\n",
      "        │               └─28*[{skypeforlinux}]\r\n",
      "        ├─snapd───17*[{snapd}]\r\n",
      "        ├─systemd─┬─(sd-pam)\r\n",
      "        │         ├─abrt-applet───3*[{abrt-applet}]\r\n",
      "        │         ├─at-spi-bus-laun─┬─dbus-broker-lau───dbus-broker\r\n",
      "        │         │                 └─3*[{at-spi-bus-laun}]\r\n",
      "        │         ├─at-spi2-registr───2*[{at-spi2-registr}]\r\n",
      "        │         ├─dbus-broker-lau───dbus-broker\r\n",
      "        │         ├─dconf-service───2*[{dconf-service}]\r\n",
      "        │         ├─evinced───2*[{evinced}]\r\n",
      "        │         ├─evolution-addre───5*[{evolution-addre}]\r\n",
      "        │         ├─evolution-calen───13*[{evolution-calen}]\r\n",
      "        │         ├─evolution-sourc───3*[{evolution-sourc}]\r\n",
      "        │         ├─gnome-calendar───5*[{gnome-calendar}]\r\n",
      "        │         ├─gnome-shell-cal───5*[{gnome-shell-cal}]\r\n",
      "        │         ├─gnome-terminal-─┬─bash───evince───4*[{evince}]\r\n",
      "        │         │                 ├─bash───jupyter-noteboo─┬─python3─┬─pstree\r\n",
      "        │         │                 │                        │         └─8*[{py+\r\n",
      "        │         │                 │                        └─2*[{jupyter-note+\r\n",
      "        │         │                 ├─bash───sudo───unshare───bash───top\r\n",
      "        │         │                 ├─2*[bash]\r\n",
      "        │         │                 ├─2*[bash───htop]\r\n",
      "        │         │                 └─3*[{gnome-terminal-}]\r\n",
      "        │         ├─goa-daemon───3*[{goa-daemon}]\r\n",
      "        │         ├─goa-identity-se───3*[{goa-identity-se}]\r\n",
      "        │         ├─gpg-agent\r\n",
      "        │         ├─gvfs-afc-volume───3*[{gvfs-afc-volume}]\r\n",
      "        │         ├─gvfs-goa-volume───2*[{gvfs-goa-volume}]\r\n",
      "        │         ├─gvfs-gphoto2-vo───2*[{gvfs-gphoto2-vo}]\r\n",
      "        │         ├─gvfs-mtp-volume───2*[{gvfs-mtp-volume}]\r\n",
      "        │         ├─gvfs-udisks2-vo───2*[{gvfs-udisks2-vo}]\r\n",
      "        │         ├─gvfsd─┬─gvfsd-http───2*[{gvfsd-http}]\r\n",
      "        │         │       ├─gvfsd-trash───2*[{gvfsd-trash}]\r\n",
      "        │         │       └─2*[{gvfsd}]\r\n",
      "        │         ├─gvfsd-fuse───5*[{gvfsd-fuse}]\r\n",
      "        │         ├─gvfsd-metadata───2*[{gvfsd-metadata}]\r\n",
      "        │         ├─ibus-portal───2*[{ibus-portal}]\r\n",
      "        │         ├─kwalletd5───5*[{kwalletd5}]\r\n",
      "        │         ├─obexd\r\n",
      "        │         ├─pulseaudio───2*[{pulseaudio}]\r\n",
      "        │         ├─tracker-store───4*[{tracker-store}]\r\n",
      "        │         └─xdg-permission-───2*[{xdg-permission-}]\r\n",
      "        ├─systemd-journal\r\n",
      "        ├─systemd-logind\r\n",
      "        ├─systemd-machine\r\n",
      "        ├─systemd-udevd\r\n",
      "        ├─udisksd───4*[{udisksd}]\r\n",
      "        ├─upowerd───2*[{upowerd}]\r\n",
      "        └─wpa_supplicant\r\n"
     ]
    }
   ],
   "source": [
    "!pstree"
   ]
  },
  {
   "cell_type": "markdown",
   "metadata": {
    "slideshow": {
     "slide_type": "fragment"
    }
   },
   "source": [
    "The `kill` command can be used to send signals to processes, using their PID. The default signal sent by `kill` is `TERM`, which terminates the process.\n",
    "\n",
    "[demo in terminal]\n",
    "\n",
    "Using these commands from the chrooted environment, it's clear that __mocker v0.1__ does not provide a complete illusion that we're on a different computer."
   ]
  },
  {
   "cell_type": "markdown",
   "metadata": {
    "slideshow": {
     "slide_type": "slide"
    }
   },
   "source": [
    "## Isolating processes through namespaces\n",
    "\n",
    "Linux namespaces provide a way to isolate processes (and more) from the rest of the host. Namespaces are a key feature to enable containers. The `unshare` command can be used to create namespaces."
   ]
  },
  {
   "cell_type": "code",
   "execution_count": 3,
   "metadata": {
    "slideshow": {
     "slide_type": "fragment"
    }
   },
   "outputs": [
    {
     "name": "stdout",
     "output_type": "stream",
     "text": [
      "[sudo] password for glatard: \n",
      "[sudo] password for glatard: "
     ]
    }
   ],
   "source": [
    "!sudo unshare -fp chroot $PWD/container-root /bin/sh -c \"/bin/mount -t proc proc /proc && /bin/sh\""
   ]
  },
  {
   "cell_type": "code",
   "execution_count": null,
   "metadata": {},
   "outputs": [],
   "source": [
    "nsenter (docker exec?)"
   ]
  },
  {
   "cell_type": "code",
   "execution_count": null,
   "metadata": {},
   "outputs": [],
   "source": [
    "## Changing hostnames\n",
    "\n"
   ]
  },
  {
   "cell_type": "markdown",
   "metadata": {
    "slideshow": {
     "slide_type": "slide"
    }
   },
   "source": [
    "# __mocker v0.3__: adding memory restrictions with cgroups\n",
    "\n",
    "Maybe you don't want your memory-hungry containerized application to bloat your computer. Linux _cgroups_ (control groups) can allocate restricted amounts of memory (but also CPU and other resources) to a group of processes.\n",
    "\n",
    "For instance, using cgroups, we can make sure that our container will only be allowed to use 10MB of memory:\n"
   ]
  },
  {
   "cell_type": "code",
   "execution_count": null,
   "metadata": {
    "slideshow": {
     "slide_type": "fragment"
    }
   },
   "outputs": [
    {
     "name": "stdout",
     "output_type": "stream",
     "text": [
      "[sudo] password for glatard: \n",
      "[sudo] password for glatard: [sudo] password for glatard: "
     ]
    }
   ],
   "source": [
    "!sudo cgcreate -g \"cpu,cpuacct,memory:mygroup\"\n",
    "!sudo cgset -r memory.limit_in_bytes=10000000 mygroup # 10 MB\n"
   ]
  },
  {
   "cell_type": "markdown",
   "metadata": {
    "slideshow": {
     "slide_type": "slide"
    }
   },
   "source": [
    "# Conclusion\n",
    "Let's play some [flashcards](https://flashcards.wizardzines.com/container-basics)\n"
   ]
  },
  {
   "cell_type": "markdown",
   "metadata": {
    "slideshow": {
     "slide_type": "slide"
    }
   },
   "source": [
    "# Future work\n",
    "\n",
    "One day I'll finish this lecture and also talk about:\n",
    "* File system mounts\n",
    "* Overlay file systems (Docker layers)\n",
    "* pivot_root (similar to chroot but more secure)\n",
    "* seccomp-bf\n",
    "* networking\n"
   ]
  }
 ],
 "metadata": {
  "celltoolbar": "Slideshow",
  "kernelspec": {
   "display_name": "Python 3",
   "language": "python",
   "name": "python3"
  },
  "language_info": {
   "codemirror_mode": {
    "name": "ipython",
    "version": 3
   },
   "file_extension": ".py",
   "mimetype": "text/x-python",
   "name": "python",
   "nbconvert_exporter": "python",
   "pygments_lexer": "ipython3",
   "version": "3.7.6"
  }
 },
 "nbformat": 4,
 "nbformat_minor": 2
}
